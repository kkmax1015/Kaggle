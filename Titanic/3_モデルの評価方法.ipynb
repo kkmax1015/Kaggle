{
  "nbformat": 4,
  "nbformat_minor": 0,
  "metadata": {
    "colab": {
      "name": "3_モデルの評価方法.ipynb",
      "provenance": [],
      "authorship_tag": "ABX9TyN8GHUVgENW/O8eNmcncw5I",
      "include_colab_link": true
    },
    "kernelspec": {
      "name": "python3",
      "display_name": "Python 3"
    }
  },
  "cells": [
    {
      "cell_type": "markdown",
      "metadata": {
        "id": "view-in-github",
        "colab_type": "text"
      },
      "source": [
        "<a href=\"https://colab.research.google.com/github/kkmax1015/Kaggle/blob/main/Titanic/3_%E3%83%A2%E3%83%87%E3%83%AB%E3%81%AE%E8%A9%95%E4%BE%A1%E6%96%B9%E6%B3%95.ipynb\" target=\"_parent\"><img src=\"https://colab.research.google.com/assets/colab-badge.svg\" alt=\"Open In Colab\"/></a>"
      ]
    },
    {
      "cell_type": "code",
      "metadata": {
        "colab": {
          "base_uri": "https://localhost:8080/"
        },
        "id": "ndR3Fwn1V1xq",
        "outputId": "89ff9ad9-f7e1-442c-a2f3-a0d54e583ba1"
      },
      "source": [
        "# Googleドライブへのマウント\r\n",
        "from google.colab import drive\r\n",
        "drive.mount('/content/drive')\r\n",
        "%cd '/content/drive/MyDrive/Colab Notebooks/Titanic/'\r\n",
        "!ls"
      ],
      "execution_count": 64,
      "outputs": [
        {
          "output_type": "stream",
          "text": [
            "Drive already mounted at /content/drive; to attempt to forcibly remount, call drive.mount(\"/content/drive\", force_remount=True).\n",
            "/content/drive/MyDrive/Colab Notebooks/Titanic\n",
            "1_SampleNoteBook_LogisticRegression\t  3_モデルの評価方法.ipynb  output\n",
            "2_欠損値とカテゴリー変数の取り扱い.ipynb  data\n"
          ],
          "name": "stdout"
        }
      ]
    },
    {
      "cell_type": "markdown",
      "metadata": {
        "id": "SGk6DJ5WWR-g"
      },
      "source": [
        "# 目標：Submit無しである程度モデルの評価を行うことが可能となる"
      ]
    },
    {
      "cell_type": "markdown",
      "metadata": {
        "id": "zyqhOUPGWgVi"
      },
      "source": [
        "過去2回はトレーニングデータで学習させたモデルの精度はテストデータの予測をKaggleへ提出することで精度を確認した。"
      ]
    },
    {
      "cell_type": "markdown",
      "metadata": {
        "id": "RT-QQNt8bixJ"
      },
      "source": [
        "今後、更なる精度向上をする為にモデルの改修を行っていくが、この際にテストデータのスコアを見ながらモデルを回収していくのは適切な手段ではない。"
      ]
    },
    {
      "cell_type": "markdown",
      "metadata": {
        "id": "i5OxjtunemRJ"
      },
      "source": [
        "機械学習モデルの最終的な目標は未知のデータを予測することで、テストデータは未知のデータのサンプルとして与えられているものとなる。この未知のデータであるテストデータの精度を見ながらモデルの精度を評価することは、結局テストデータ「だけ」を上手く予測するモデルを作成していることになり、適切ではない。"
      ]
    },
    {
      "cell_type": "markdown",
      "metadata": {
        "id": "3Uov9Y-kghbo"
      },
      "source": [
        "その為、テストデータはあくまで最終的な精度の確認に用いるデータという扱いにし、モデルを試行錯誤する際に用いるデータは別途用意する必要がある。"
      ]
    },
    {
      "cell_type": "markdown",
      "metadata": {
        "id": "HCq7VLEQgnHG"
      },
      "source": [
        "###１.ホールドアウト検証によるモデルの評価"
      ]
    },
    {
      "cell_type": "markdown",
      "metadata": {
        "id": "XoZ1s9UFipJQ"
      },
      "source": [
        "![ホールドアウト.png](data:image/png;base64,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)"
      ]
    },
    {
      "cell_type": "markdown",
      "metadata": {
        "id": "_uUcC1yIiykG"
      },
      "source": [
        "ホールドアウト検証はデータ全体をトレーニング・検証(Validation)・テストの3つに分割する手法。"
      ]
    },
    {
      "cell_type": "markdown",
      "metadata": {
        "id": "4jvcTASMjuIX"
      },
      "source": [
        "モデルの学習はトレーニングで行い、精度改善する為の試行錯誤は検証データでの精度を見ながら実施していく。"
      ]
    },
    {
      "cell_type": "markdown",
      "metadata": {
        "id": "XE9UyMpNjwBp"
      },
      "source": [
        "Kaggleの場合、提供されているテストデータが上図の「テスト」の部分に相当する。その為、トレーニングデータを「トレーニング」、「検証」に分割し、モデルの評価を行っていく。"
      ]
    },
    {
      "cell_type": "markdown",
      "metadata": {
        "id": "mPylcbH_lQqD"
      },
      "source": [
        "トレーニングデータと検証データの割合に絶対的な正解はないが、概ね８：２や７：３に分割されることが多い。"
      ]
    },
    {
      "cell_type": "code",
      "metadata": {
        "id": "aTEAJa-6gbtC"
      },
      "source": [
        "# 必要なライブラリをImportする\r\n",
        "import pandas as pd\r\n",
        "import numpy as np\r\n",
        "\r\n",
        "# CSVデータをPandasデータフレームへ読み込む\r\n",
        "train = pd.read_csv(\"./data/train.csv\");\r\n",
        "test = pd.read_csv(\"./data/test.csv\");\r\n",
        "submit = pd.read_csv(\"./data/gender_submission.csv\");"
      ],
      "execution_count": 65,
      "outputs": []
    },
    {
      "cell_type": "code",
      "metadata": {
        "colab": {
          "base_uri": "https://localhost:8080/"
        },
        "id": "dZ__gQIClrFG",
        "outputId": "020303e6-7374-4629-aac2-68d442b3ac9c"
      },
      "source": [
        "# それぞれのデータの件数を算出する\r\n",
        "print(len(train), len(test),len(submit))"
      ],
      "execution_count": 66,
      "outputs": [
        {
          "output_type": "stream",
          "text": [
            "891 418 418\n"
          ],
          "name": "stdout"
        }
      ]
    },
    {
      "cell_type": "code",
      "metadata": {
        "colab": {
          "base_uri": "https://localhost:8080/",
          "height": 204
        },
        "id": "VsaGqiH0lm9G",
        "outputId": "bc457346-7197-44f7-f89b-2f9070d36587"
      },
      "source": [
        "# トレーニング用データの先頭5行を表示\r\n",
        "train.head()"
      ],
      "execution_count": 67,
      "outputs": [
        {
          "output_type": "execute_result",
          "data": {
            "text/html": [
              "<div>\n",
              "<style scoped>\n",
              "    .dataframe tbody tr th:only-of-type {\n",
              "        vertical-align: middle;\n",
              "    }\n",
              "\n",
              "    .dataframe tbody tr th {\n",
              "        vertical-align: top;\n",
              "    }\n",
              "\n",
              "    .dataframe thead th {\n",
              "        text-align: right;\n",
              "    }\n",
              "</style>\n",
              "<table border=\"1\" class=\"dataframe\">\n",
              "  <thead>\n",
              "    <tr style=\"text-align: right;\">\n",
              "      <th></th>\n",
              "      <th>PassengerId</th>\n",
              "      <th>Survived</th>\n",
              "      <th>Pclass</th>\n",
              "      <th>Name</th>\n",
              "      <th>Sex</th>\n",
              "      <th>Age</th>\n",
              "      <th>SibSp</th>\n",
              "      <th>Parch</th>\n",
              "      <th>Ticket</th>\n",
              "      <th>Fare</th>\n",
              "      <th>Cabin</th>\n",
              "      <th>Embarked</th>\n",
              "    </tr>\n",
              "  </thead>\n",
              "  <tbody>\n",
              "    <tr>\n",
              "      <th>0</th>\n",
              "      <td>1</td>\n",
              "      <td>0</td>\n",
              "      <td>3</td>\n",
              "      <td>Braund, Mr. Owen Harris</td>\n",
              "      <td>male</td>\n",
              "      <td>22.0</td>\n",
              "      <td>1</td>\n",
              "      <td>0</td>\n",
              "      <td>A/5 21171</td>\n",
              "      <td>7.2500</td>\n",
              "      <td>NaN</td>\n",
              "      <td>S</td>\n",
              "    </tr>\n",
              "    <tr>\n",
              "      <th>1</th>\n",
              "      <td>2</td>\n",
              "      <td>1</td>\n",
              "      <td>1</td>\n",
              "      <td>Cumings, Mrs. John Bradley (Florence Briggs Th...</td>\n",
              "      <td>female</td>\n",
              "      <td>38.0</td>\n",
              "      <td>1</td>\n",
              "      <td>0</td>\n",
              "      <td>PC 17599</td>\n",
              "      <td>71.2833</td>\n",
              "      <td>C85</td>\n",
              "      <td>C</td>\n",
              "    </tr>\n",
              "    <tr>\n",
              "      <th>2</th>\n",
              "      <td>3</td>\n",
              "      <td>1</td>\n",
              "      <td>3</td>\n",
              "      <td>Heikkinen, Miss. Laina</td>\n",
              "      <td>female</td>\n",
              "      <td>26.0</td>\n",
              "      <td>0</td>\n",
              "      <td>0</td>\n",
              "      <td>STON/O2. 3101282</td>\n",
              "      <td>7.9250</td>\n",
              "      <td>NaN</td>\n",
              "      <td>S</td>\n",
              "    </tr>\n",
              "    <tr>\n",
              "      <th>3</th>\n",
              "      <td>4</td>\n",
              "      <td>1</td>\n",
              "      <td>1</td>\n",
              "      <td>Futrelle, Mrs. Jacques Heath (Lily May Peel)</td>\n",
              "      <td>female</td>\n",
              "      <td>35.0</td>\n",
              "      <td>1</td>\n",
              "      <td>0</td>\n",
              "      <td>113803</td>\n",
              "      <td>53.1000</td>\n",
              "      <td>C123</td>\n",
              "      <td>S</td>\n",
              "    </tr>\n",
              "    <tr>\n",
              "      <th>4</th>\n",
              "      <td>5</td>\n",
              "      <td>0</td>\n",
              "      <td>3</td>\n",
              "      <td>Allen, Mr. William Henry</td>\n",
              "      <td>male</td>\n",
              "      <td>35.0</td>\n",
              "      <td>0</td>\n",
              "      <td>0</td>\n",
              "      <td>373450</td>\n",
              "      <td>8.0500</td>\n",
              "      <td>NaN</td>\n",
              "      <td>S</td>\n",
              "    </tr>\n",
              "  </tbody>\n",
              "</table>\n",
              "</div>"
            ],
            "text/plain": [
              "   PassengerId  Survived  Pclass  ...     Fare Cabin  Embarked\n",
              "0            1         0       3  ...   7.2500   NaN         S\n",
              "1            2         1       1  ...  71.2833   C85         C\n",
              "2            3         1       3  ...   7.9250   NaN         S\n",
              "3            4         1       1  ...  53.1000  C123         S\n",
              "4            5         0       3  ...   8.0500   NaN         S\n",
              "\n",
              "[5 rows x 12 columns]"
            ]
          },
          "metadata": {
            "tags": []
          },
          "execution_count": 67
        }
      ]
    },
    {
      "cell_type": "code",
      "metadata": {
        "colab": {
          "base_uri": "https://localhost:8080/",
          "height": 204
        },
        "id": "XOG-YiZqlvDI",
        "outputId": "889c87d4-7bcb-4a42-85eb-64a6170affa5"
      },
      "source": [
        "# テスト用データの先頭5行を表示\r\n",
        "test.head()"
      ],
      "execution_count": 68,
      "outputs": [
        {
          "output_type": "execute_result",
          "data": {
            "text/html": [
              "<div>\n",
              "<style scoped>\n",
              "    .dataframe tbody tr th:only-of-type {\n",
              "        vertical-align: middle;\n",
              "    }\n",
              "\n",
              "    .dataframe tbody tr th {\n",
              "        vertical-align: top;\n",
              "    }\n",
              "\n",
              "    .dataframe thead th {\n",
              "        text-align: right;\n",
              "    }\n",
              "</style>\n",
              "<table border=\"1\" class=\"dataframe\">\n",
              "  <thead>\n",
              "    <tr style=\"text-align: right;\">\n",
              "      <th></th>\n",
              "      <th>PassengerId</th>\n",
              "      <th>Pclass</th>\n",
              "      <th>Name</th>\n",
              "      <th>Sex</th>\n",
              "      <th>Age</th>\n",
              "      <th>SibSp</th>\n",
              "      <th>Parch</th>\n",
              "      <th>Ticket</th>\n",
              "      <th>Fare</th>\n",
              "      <th>Cabin</th>\n",
              "      <th>Embarked</th>\n",
              "    </tr>\n",
              "  </thead>\n",
              "  <tbody>\n",
              "    <tr>\n",
              "      <th>0</th>\n",
              "      <td>892</td>\n",
              "      <td>3</td>\n",
              "      <td>Kelly, Mr. James</td>\n",
              "      <td>male</td>\n",
              "      <td>34.5</td>\n",
              "      <td>0</td>\n",
              "      <td>0</td>\n",
              "      <td>330911</td>\n",
              "      <td>7.8292</td>\n",
              "      <td>NaN</td>\n",
              "      <td>Q</td>\n",
              "    </tr>\n",
              "    <tr>\n",
              "      <th>1</th>\n",
              "      <td>893</td>\n",
              "      <td>3</td>\n",
              "      <td>Wilkes, Mrs. James (Ellen Needs)</td>\n",
              "      <td>female</td>\n",
              "      <td>47.0</td>\n",
              "      <td>1</td>\n",
              "      <td>0</td>\n",
              "      <td>363272</td>\n",
              "      <td>7.0000</td>\n",
              "      <td>NaN</td>\n",
              "      <td>S</td>\n",
              "    </tr>\n",
              "    <tr>\n",
              "      <th>2</th>\n",
              "      <td>894</td>\n",
              "      <td>2</td>\n",
              "      <td>Myles, Mr. Thomas Francis</td>\n",
              "      <td>male</td>\n",
              "      <td>62.0</td>\n",
              "      <td>0</td>\n",
              "      <td>0</td>\n",
              "      <td>240276</td>\n",
              "      <td>9.6875</td>\n",
              "      <td>NaN</td>\n",
              "      <td>Q</td>\n",
              "    </tr>\n",
              "    <tr>\n",
              "      <th>3</th>\n",
              "      <td>895</td>\n",
              "      <td>3</td>\n",
              "      <td>Wirz, Mr. Albert</td>\n",
              "      <td>male</td>\n",
              "      <td>27.0</td>\n",
              "      <td>0</td>\n",
              "      <td>0</td>\n",
              "      <td>315154</td>\n",
              "      <td>8.6625</td>\n",
              "      <td>NaN</td>\n",
              "      <td>S</td>\n",
              "    </tr>\n",
              "    <tr>\n",
              "      <th>4</th>\n",
              "      <td>896</td>\n",
              "      <td>3</td>\n",
              "      <td>Hirvonen, Mrs. Alexander (Helga E Lindqvist)</td>\n",
              "      <td>female</td>\n",
              "      <td>22.0</td>\n",
              "      <td>1</td>\n",
              "      <td>1</td>\n",
              "      <td>3101298</td>\n",
              "      <td>12.2875</td>\n",
              "      <td>NaN</td>\n",
              "      <td>S</td>\n",
              "    </tr>\n",
              "  </tbody>\n",
              "</table>\n",
              "</div>"
            ],
            "text/plain": [
              "   PassengerId  Pclass  ... Cabin Embarked\n",
              "0          892       3  ...   NaN        Q\n",
              "1          893       3  ...   NaN        S\n",
              "2          894       2  ...   NaN        Q\n",
              "3          895       3  ...   NaN        S\n",
              "4          896       3  ...   NaN        S\n",
              "\n",
              "[5 rows x 11 columns]"
            ]
          },
          "metadata": {
            "tags": []
          },
          "execution_count": 68
        }
      ]
    },
    {
      "cell_type": "code",
      "metadata": {
        "colab": {
          "base_uri": "https://localhost:8080/",
          "height": 204
        },
        "id": "qHcH9gAplxY4",
        "outputId": "b890aa6d-1cff-4eaf-e324-f2f684e960b3"
      },
      "source": [
        "# トレーニングとテストデータのマージ\r\n",
        "data = train.drop('Survived',axis=1)\r\n",
        "data = pd.concat([data,test],join='inner')\r\n",
        "data.head()"
      ],
      "execution_count": 69,
      "outputs": [
        {
          "output_type": "execute_result",
          "data": {
            "text/html": [
              "<div>\n",
              "<style scoped>\n",
              "    .dataframe tbody tr th:only-of-type {\n",
              "        vertical-align: middle;\n",
              "    }\n",
              "\n",
              "    .dataframe tbody tr th {\n",
              "        vertical-align: top;\n",
              "    }\n",
              "\n",
              "    .dataframe thead th {\n",
              "        text-align: right;\n",
              "    }\n",
              "</style>\n",
              "<table border=\"1\" class=\"dataframe\">\n",
              "  <thead>\n",
              "    <tr style=\"text-align: right;\">\n",
              "      <th></th>\n",
              "      <th>PassengerId</th>\n",
              "      <th>Pclass</th>\n",
              "      <th>Name</th>\n",
              "      <th>Sex</th>\n",
              "      <th>Age</th>\n",
              "      <th>SibSp</th>\n",
              "      <th>Parch</th>\n",
              "      <th>Ticket</th>\n",
              "      <th>Fare</th>\n",
              "      <th>Cabin</th>\n",
              "      <th>Embarked</th>\n",
              "    </tr>\n",
              "  </thead>\n",
              "  <tbody>\n",
              "    <tr>\n",
              "      <th>0</th>\n",
              "      <td>1</td>\n",
              "      <td>3</td>\n",
              "      <td>Braund, Mr. Owen Harris</td>\n",
              "      <td>male</td>\n",
              "      <td>22.0</td>\n",
              "      <td>1</td>\n",
              "      <td>0</td>\n",
              "      <td>A/5 21171</td>\n",
              "      <td>7.2500</td>\n",
              "      <td>NaN</td>\n",
              "      <td>S</td>\n",
              "    </tr>\n",
              "    <tr>\n",
              "      <th>1</th>\n",
              "      <td>2</td>\n",
              "      <td>1</td>\n",
              "      <td>Cumings, Mrs. John Bradley (Florence Briggs Th...</td>\n",
              "      <td>female</td>\n",
              "      <td>38.0</td>\n",
              "      <td>1</td>\n",
              "      <td>0</td>\n",
              "      <td>PC 17599</td>\n",
              "      <td>71.2833</td>\n",
              "      <td>C85</td>\n",
              "      <td>C</td>\n",
              "    </tr>\n",
              "    <tr>\n",
              "      <th>2</th>\n",
              "      <td>3</td>\n",
              "      <td>3</td>\n",
              "      <td>Heikkinen, Miss. Laina</td>\n",
              "      <td>female</td>\n",
              "      <td>26.0</td>\n",
              "      <td>0</td>\n",
              "      <td>0</td>\n",
              "      <td>STON/O2. 3101282</td>\n",
              "      <td>7.9250</td>\n",
              "      <td>NaN</td>\n",
              "      <td>S</td>\n",
              "    </tr>\n",
              "    <tr>\n",
              "      <th>3</th>\n",
              "      <td>4</td>\n",
              "      <td>1</td>\n",
              "      <td>Futrelle, Mrs. Jacques Heath (Lily May Peel)</td>\n",
              "      <td>female</td>\n",
              "      <td>35.0</td>\n",
              "      <td>1</td>\n",
              "      <td>0</td>\n",
              "      <td>113803</td>\n",
              "      <td>53.1000</td>\n",
              "      <td>C123</td>\n",
              "      <td>S</td>\n",
              "    </tr>\n",
              "    <tr>\n",
              "      <th>4</th>\n",
              "      <td>5</td>\n",
              "      <td>3</td>\n",
              "      <td>Allen, Mr. William Henry</td>\n",
              "      <td>male</td>\n",
              "      <td>35.0</td>\n",
              "      <td>0</td>\n",
              "      <td>0</td>\n",
              "      <td>373450</td>\n",
              "      <td>8.0500</td>\n",
              "      <td>NaN</td>\n",
              "      <td>S</td>\n",
              "    </tr>\n",
              "  </tbody>\n",
              "</table>\n",
              "</div>"
            ],
            "text/plain": [
              "   PassengerId  Pclass  ... Cabin Embarked\n",
              "0            1       3  ...   NaN        S\n",
              "1            2       1  ...   C85        C\n",
              "2            3       3  ...   NaN        S\n",
              "3            4       1  ...  C123        S\n",
              "4            5       3  ...   NaN        S\n",
              "\n",
              "[5 rows x 11 columns]"
            ]
          },
          "metadata": {
            "tags": []
          },
          "execution_count": 69
        }
      ]
    },
    {
      "cell_type": "code",
      "metadata": {
        "id": "UWKDEXXamJEp"
      },
      "source": [
        "# 第1回と第2回のデータをそれぞれ作成する\r\n",
        "data1 = data.copy()\r\n",
        "data2 = data.copy()"
      ],
      "execution_count": 70,
      "outputs": []
    },
    {
      "cell_type": "code",
      "metadata": {
        "colab": {
          "base_uri": "https://localhost:8080/",
          "height": 204
        },
        "id": "LajPylSQmohI",
        "outputId": "d86294e6-b7b6-4151-84e1-93ec20dbcece"
      },
      "source": [
        "# 第1回のデータを作成\r\n",
        "# 不要なカラムの削除\r\n",
        "data1.drop(['Name','Sex','Ticket','Cabin','Embarked','Age','Fare'],axis = 1,inplace=True)\r\n",
        "y_data1 = train['Survived']\r\n",
        "X_data1 = data1[:len(train)]\r\n",
        "X_test1 = data1[len(train):]\r\n",
        "X_data1.head()"
      ],
      "execution_count": 71,
      "outputs": [
        {
          "output_type": "execute_result",
          "data": {
            "text/html": [
              "<div>\n",
              "<style scoped>\n",
              "    .dataframe tbody tr th:only-of-type {\n",
              "        vertical-align: middle;\n",
              "    }\n",
              "\n",
              "    .dataframe tbody tr th {\n",
              "        vertical-align: top;\n",
              "    }\n",
              "\n",
              "    .dataframe thead th {\n",
              "        text-align: right;\n",
              "    }\n",
              "</style>\n",
              "<table border=\"1\" class=\"dataframe\">\n",
              "  <thead>\n",
              "    <tr style=\"text-align: right;\">\n",
              "      <th></th>\n",
              "      <th>PassengerId</th>\n",
              "      <th>Pclass</th>\n",
              "      <th>SibSp</th>\n",
              "      <th>Parch</th>\n",
              "    </tr>\n",
              "  </thead>\n",
              "  <tbody>\n",
              "    <tr>\n",
              "      <th>0</th>\n",
              "      <td>1</td>\n",
              "      <td>3</td>\n",
              "      <td>1</td>\n",
              "      <td>0</td>\n",
              "    </tr>\n",
              "    <tr>\n",
              "      <th>1</th>\n",
              "      <td>2</td>\n",
              "      <td>1</td>\n",
              "      <td>1</td>\n",
              "      <td>0</td>\n",
              "    </tr>\n",
              "    <tr>\n",
              "      <th>2</th>\n",
              "      <td>3</td>\n",
              "      <td>3</td>\n",
              "      <td>0</td>\n",
              "      <td>0</td>\n",
              "    </tr>\n",
              "    <tr>\n",
              "      <th>3</th>\n",
              "      <td>4</td>\n",
              "      <td>1</td>\n",
              "      <td>1</td>\n",
              "      <td>0</td>\n",
              "    </tr>\n",
              "    <tr>\n",
              "      <th>4</th>\n",
              "      <td>5</td>\n",
              "      <td>3</td>\n",
              "      <td>0</td>\n",
              "      <td>0</td>\n",
              "    </tr>\n",
              "  </tbody>\n",
              "</table>\n",
              "</div>"
            ],
            "text/plain": [
              "   PassengerId  Pclass  SibSp  Parch\n",
              "0            1       3      1      0\n",
              "1            2       1      1      0\n",
              "2            3       3      0      0\n",
              "3            4       1      1      0\n",
              "4            5       3      0      0"
            ]
          },
          "metadata": {
            "tags": []
          },
          "execution_count": 71
        }
      ]
    },
    {
      "cell_type": "code",
      "metadata": {
        "colab": {
          "base_uri": "https://localhost:8080/",
          "height": 204
        },
        "id": "wPb52Kb1ne0i",
        "outputId": "f52553e4-38cf-4fd9-be8d-17e8721dafb8"
      },
      "source": [
        "# 第2回のデータを作成\r\n",
        "# 不要なカラムの削除\r\n",
        "data2.drop(['PassengerId','Name','Ticket','Cabin'],axis = 1,inplace=True)\r\n",
        "\r\n",
        "# 欠損値の補完\r\n",
        "data2['Age'].fillna(data['Age'].median(), inplace=True)\r\n",
        "data2['Fare'].fillna(np.mean(data['Fare']), inplace=True)\r\n",
        "data2['Embarked'].fillna('S', inplace=True)\r\n",
        "\r\n",
        "# カテゴリー変数の変換\r\n",
        "data2['Sex'].replace(['male','female'], [0, 1], inplace=True)\r\n",
        "data2['Embarked'].replace(['S','C','Q'], [0, 1, 2], inplace=True)\r\n",
        "\r\n",
        "y_data2 = train['Survived']\r\n",
        "X_data2 = data2[:len(train)]\r\n",
        "X_test2 = data2[len(train):]\r\n",
        "X_data2.head()"
      ],
      "execution_count": 72,
      "outputs": [
        {
          "output_type": "execute_result",
          "data": {
            "text/html": [
              "<div>\n",
              "<style scoped>\n",
              "    .dataframe tbody tr th:only-of-type {\n",
              "        vertical-align: middle;\n",
              "    }\n",
              "\n",
              "    .dataframe tbody tr th {\n",
              "        vertical-align: top;\n",
              "    }\n",
              "\n",
              "    .dataframe thead th {\n",
              "        text-align: right;\n",
              "    }\n",
              "</style>\n",
              "<table border=\"1\" class=\"dataframe\">\n",
              "  <thead>\n",
              "    <tr style=\"text-align: right;\">\n",
              "      <th></th>\n",
              "      <th>Pclass</th>\n",
              "      <th>Sex</th>\n",
              "      <th>Age</th>\n",
              "      <th>SibSp</th>\n",
              "      <th>Parch</th>\n",
              "      <th>Fare</th>\n",
              "      <th>Embarked</th>\n",
              "    </tr>\n",
              "  </thead>\n",
              "  <tbody>\n",
              "    <tr>\n",
              "      <th>0</th>\n",
              "      <td>3</td>\n",
              "      <td>0</td>\n",
              "      <td>22.0</td>\n",
              "      <td>1</td>\n",
              "      <td>0</td>\n",
              "      <td>7.2500</td>\n",
              "      <td>0</td>\n",
              "    </tr>\n",
              "    <tr>\n",
              "      <th>1</th>\n",
              "      <td>1</td>\n",
              "      <td>1</td>\n",
              "      <td>38.0</td>\n",
              "      <td>1</td>\n",
              "      <td>0</td>\n",
              "      <td>71.2833</td>\n",
              "      <td>1</td>\n",
              "    </tr>\n",
              "    <tr>\n",
              "      <th>2</th>\n",
              "      <td>3</td>\n",
              "      <td>1</td>\n",
              "      <td>26.0</td>\n",
              "      <td>0</td>\n",
              "      <td>0</td>\n",
              "      <td>7.9250</td>\n",
              "      <td>0</td>\n",
              "    </tr>\n",
              "    <tr>\n",
              "      <th>3</th>\n",
              "      <td>1</td>\n",
              "      <td>1</td>\n",
              "      <td>35.0</td>\n",
              "      <td>1</td>\n",
              "      <td>0</td>\n",
              "      <td>53.1000</td>\n",
              "      <td>0</td>\n",
              "    </tr>\n",
              "    <tr>\n",
              "      <th>4</th>\n",
              "      <td>3</td>\n",
              "      <td>0</td>\n",
              "      <td>35.0</td>\n",
              "      <td>0</td>\n",
              "      <td>0</td>\n",
              "      <td>8.0500</td>\n",
              "      <td>0</td>\n",
              "    </tr>\n",
              "  </tbody>\n",
              "</table>\n",
              "</div>"
            ],
            "text/plain": [
              "   Pclass  Sex   Age  SibSp  Parch     Fare  Embarked\n",
              "0       3    0  22.0      1      0   7.2500         0\n",
              "1       1    1  38.0      1      0  71.2833         1\n",
              "2       3    1  26.0      0      0   7.9250         0\n",
              "3       1    1  35.0      1      0  53.1000         0\n",
              "4       3    0  35.0      0      0   8.0500         0"
            ]
          },
          "metadata": {
            "tags": []
          },
          "execution_count": 72
        }
      ]
    },
    {
      "cell_type": "markdown",
      "metadata": {
        "id": "QwiKlxemgo8k"
      },
      "source": [
        "今回はトレーニングデータを８：２に分割し、トレーニングデータで学習したモデルが検証データに対しどの程度の精度を出すのか確認する。この分割はsklearnのtrain_test_splitを使用して簡単に実現できる。使用時、特に気にするべき引数は以下の3つ。"
      ]
    },
    {
      "cell_type": "markdown",
      "metadata": {
        "id": "aAHxvoz_iSud"
      },
      "source": [
        "test_size：テストデータの割合を指定する。今回は２割とするので、0.2を指定している。"
      ]
    },
    {
      "cell_type": "markdown",
      "metadata": {
        "id": "LVhmib4RihJ7"
      },
      "source": [
        "stratify：層化抽出を実施するかどうかを制御するパラメーター。目的変数を指定することで、トレーニングデータと検証データに含まれるデータの正解ラベルの分布を同じにすることが出来る。"
      ]
    },
    {
      "cell_type": "markdown",
      "metadata": {
        "id": "0mrdZhuX8ZDu"
      },
      "source": [
        "random_state：疑似乱数を固定する。これを指定しておかないと実行ごとに毎回異なるデータセットが作成されてモデルの比較が行えなくなる（再現性が失われる）ので、指定を行う。"
      ]
    },
    {
      "cell_type": "code",
      "metadata": {
        "colab": {
          "base_uri": "https://localhost:8080/"
        },
        "id": "3nhvU6HIfKxQ",
        "outputId": "8c893ae6-55b1-4fa3-e515-1402a1b55f0e"
      },
      "source": [
        "# トレーニングデータ、検証データの分割\r\n",
        "from sklearn.model_selection import train_test_split\r\n",
        "X_train1, X_val1, y_train1, y_val1 = train_test_split(X_data1, y_data1, test_size=0.2, random_state=42, stratify=y_data1,shuffle = True)\r\n",
        "X_train2, X_val2, y_train2, y_val2 = train_test_split(X_data2, y_data2, test_size=0.2, random_state=42, stratify=y_data2,shuffle = True)\r\n",
        "\r\n",
        "print(len(X_train1), len(X_val1))\r\n",
        "print(len(X_train2), len(X_val2))"
      ],
      "execution_count": 73,
      "outputs": [
        {
          "output_type": "stream",
          "text": [
            "712 179\n",
            "712 179\n"
          ],
          "name": "stdout"
        }
      ]
    },
    {
      "cell_type": "code",
      "metadata": {
        "colab": {
          "base_uri": "https://localhost:8080/",
          "height": 204
        },
        "id": "DGQ3s7Lv6tVn",
        "outputId": "7222e930-6c61-4134-dcd7-0c2c1b457405"
      },
      "source": [
        "# 今回は第1回と第2回の比較をしたいので同じ分割がされているかも確認する。\r\n",
        "X_train1.head()"
      ],
      "execution_count": 74,
      "outputs": [
        {
          "output_type": "execute_result",
          "data": {
            "text/html": [
              "<div>\n",
              "<style scoped>\n",
              "    .dataframe tbody tr th:only-of-type {\n",
              "        vertical-align: middle;\n",
              "    }\n",
              "\n",
              "    .dataframe tbody tr th {\n",
              "        vertical-align: top;\n",
              "    }\n",
              "\n",
              "    .dataframe thead th {\n",
              "        text-align: right;\n",
              "    }\n",
              "</style>\n",
              "<table border=\"1\" class=\"dataframe\">\n",
              "  <thead>\n",
              "    <tr style=\"text-align: right;\">\n",
              "      <th></th>\n",
              "      <th>PassengerId</th>\n",
              "      <th>Pclass</th>\n",
              "      <th>SibSp</th>\n",
              "      <th>Parch</th>\n",
              "    </tr>\n",
              "  </thead>\n",
              "  <tbody>\n",
              "    <tr>\n",
              "      <th>692</th>\n",
              "      <td>693</td>\n",
              "      <td>3</td>\n",
              "      <td>0</td>\n",
              "      <td>0</td>\n",
              "    </tr>\n",
              "    <tr>\n",
              "      <th>481</th>\n",
              "      <td>482</td>\n",
              "      <td>2</td>\n",
              "      <td>0</td>\n",
              "      <td>0</td>\n",
              "    </tr>\n",
              "    <tr>\n",
              "      <th>527</th>\n",
              "      <td>528</td>\n",
              "      <td>1</td>\n",
              "      <td>0</td>\n",
              "      <td>0</td>\n",
              "    </tr>\n",
              "    <tr>\n",
              "      <th>855</th>\n",
              "      <td>856</td>\n",
              "      <td>3</td>\n",
              "      <td>0</td>\n",
              "      <td>1</td>\n",
              "    </tr>\n",
              "    <tr>\n",
              "      <th>801</th>\n",
              "      <td>802</td>\n",
              "      <td>2</td>\n",
              "      <td>1</td>\n",
              "      <td>1</td>\n",
              "    </tr>\n",
              "  </tbody>\n",
              "</table>\n",
              "</div>"
            ],
            "text/plain": [
              "     PassengerId  Pclass  SibSp  Parch\n",
              "692          693       3      0      0\n",
              "481          482       2      0      0\n",
              "527          528       1      0      0\n",
              "855          856       3      0      1\n",
              "801          802       2      1      1"
            ]
          },
          "metadata": {
            "tags": []
          },
          "execution_count": 74
        }
      ]
    },
    {
      "cell_type": "code",
      "metadata": {
        "colab": {
          "base_uri": "https://localhost:8080/",
          "height": 204
        },
        "id": "vgqeL5LG60Lo",
        "outputId": "2d1bcdd8-7677-49a6-aaaa-cf29764c93a0"
      },
      "source": [
        "X_train2.head()"
      ],
      "execution_count": 75,
      "outputs": [
        {
          "output_type": "execute_result",
          "data": {
            "text/html": [
              "<div>\n",
              "<style scoped>\n",
              "    .dataframe tbody tr th:only-of-type {\n",
              "        vertical-align: middle;\n",
              "    }\n",
              "\n",
              "    .dataframe tbody tr th {\n",
              "        vertical-align: top;\n",
              "    }\n",
              "\n",
              "    .dataframe thead th {\n",
              "        text-align: right;\n",
              "    }\n",
              "</style>\n",
              "<table border=\"1\" class=\"dataframe\">\n",
              "  <thead>\n",
              "    <tr style=\"text-align: right;\">\n",
              "      <th></th>\n",
              "      <th>Pclass</th>\n",
              "      <th>Sex</th>\n",
              "      <th>Age</th>\n",
              "      <th>SibSp</th>\n",
              "      <th>Parch</th>\n",
              "      <th>Fare</th>\n",
              "      <th>Embarked</th>\n",
              "    </tr>\n",
              "  </thead>\n",
              "  <tbody>\n",
              "    <tr>\n",
              "      <th>692</th>\n",
              "      <td>3</td>\n",
              "      <td>0</td>\n",
              "      <td>28.0</td>\n",
              "      <td>0</td>\n",
              "      <td>0</td>\n",
              "      <td>56.4958</td>\n",
              "      <td>0</td>\n",
              "    </tr>\n",
              "    <tr>\n",
              "      <th>481</th>\n",
              "      <td>2</td>\n",
              "      <td>0</td>\n",
              "      <td>28.0</td>\n",
              "      <td>0</td>\n",
              "      <td>0</td>\n",
              "      <td>0.0000</td>\n",
              "      <td>0</td>\n",
              "    </tr>\n",
              "    <tr>\n",
              "      <th>527</th>\n",
              "      <td>1</td>\n",
              "      <td>0</td>\n",
              "      <td>28.0</td>\n",
              "      <td>0</td>\n",
              "      <td>0</td>\n",
              "      <td>221.7792</td>\n",
              "      <td>0</td>\n",
              "    </tr>\n",
              "    <tr>\n",
              "      <th>855</th>\n",
              "      <td>3</td>\n",
              "      <td>1</td>\n",
              "      <td>18.0</td>\n",
              "      <td>0</td>\n",
              "      <td>1</td>\n",
              "      <td>9.3500</td>\n",
              "      <td>0</td>\n",
              "    </tr>\n",
              "    <tr>\n",
              "      <th>801</th>\n",
              "      <td>2</td>\n",
              "      <td>1</td>\n",
              "      <td>31.0</td>\n",
              "      <td>1</td>\n",
              "      <td>1</td>\n",
              "      <td>26.2500</td>\n",
              "      <td>0</td>\n",
              "    </tr>\n",
              "  </tbody>\n",
              "</table>\n",
              "</div>"
            ],
            "text/plain": [
              "     Pclass  Sex   Age  SibSp  Parch      Fare  Embarked\n",
              "692       3    0  28.0      0      0   56.4958         0\n",
              "481       2    0  28.0      0      0    0.0000         0\n",
              "527       1    0  28.0      0      0  221.7792         0\n",
              "855       3    1  18.0      0      1    9.3500         0\n",
              "801       2    1  31.0      1      1   26.2500         0"
            ]
          },
          "metadata": {
            "tags": []
          },
          "execution_count": 75
        }
      ]
    },
    {
      "cell_type": "code",
      "metadata": {
        "id": "WuK8Wdg-mahE"
      },
      "source": [
        "# sklearnのロジスティック回帰をImport\r\n",
        "from sklearn.linear_model import LogisticRegression\r\n",
        "\r\n",
        "# ロジスティック回帰モデルの作成(初期化)\r\n",
        "# random_state：初期化パラメータ。指定することで学習結果を固定することが出来る。\r\n",
        "clf1 = LogisticRegression(random_state=0)\r\n",
        "clf2 = LogisticRegression(random_state=0)"
      ],
      "execution_count": 76,
      "outputs": []
    },
    {
      "cell_type": "code",
      "metadata": {
        "colab": {
          "base_uri": "https://localhost:8080/"
        },
        "id": "3cd_sqCBnCF2",
        "outputId": "723e227e-aa58-4c14-cf90-0ae03c8f6ee3"
      },
      "source": [
        "# 第1回、第2回のデータを用いてそれぞれモデルを作成する。\r\n",
        "clf1.fit(X_train1,y_train1)\r\n",
        "clf2.fit(X_train2,y_train2)"
      ],
      "execution_count": 77,
      "outputs": [
        {
          "output_type": "stream",
          "text": [
            "/usr/local/lib/python3.6/dist-packages/sklearn/linear_model/_logistic.py:940: ConvergenceWarning: lbfgs failed to converge (status=1):\n",
            "STOP: TOTAL NO. of ITERATIONS REACHED LIMIT.\n",
            "\n",
            "Increase the number of iterations (max_iter) or scale the data as shown in:\n",
            "    https://scikit-learn.org/stable/modules/preprocessing.html\n",
            "Please also refer to the documentation for alternative solver options:\n",
            "    https://scikit-learn.org/stable/modules/linear_model.html#logistic-regression\n",
            "  extra_warning_msg=_LOGISTIC_SOLVER_CONVERGENCE_MSG)\n"
          ],
          "name": "stderr"
        },
        {
          "output_type": "execute_result",
          "data": {
            "text/plain": [
              "LogisticRegression(C=1.0, class_weight=None, dual=False, fit_intercept=True,\n",
              "                   intercept_scaling=1, l1_ratio=None, max_iter=100,\n",
              "                   multi_class='auto', n_jobs=None, penalty='l2',\n",
              "                   random_state=0, solver='lbfgs', tol=0.0001, verbose=0,\n",
              "                   warm_start=False)"
            ]
          },
          "metadata": {
            "tags": []
          },
          "execution_count": 77
        }
      ]
    },
    {
      "cell_type": "code",
      "metadata": {
        "colab": {
          "base_uri": "https://localhost:8080/"
        },
        "id": "0L9AdhShsH9X",
        "outputId": "a0ab6174-9d9a-434d-80f2-8580487ada57"
      },
      "source": [
        "# 学習したモデルでそれぞれトレーニングデータ、検証データに対する正答率を確認する。\r\n",
        "print(f'Training score(data1)：{clf1.score(X_train1, y_train1):.5f}')\r\n",
        "print(f'Validation score(data1)：{clf1.score(X_val1, y_val1):.5f}')\r\n",
        "print('\\n')\r\n",
        "print(f'Training score(data2)：{clf2.score(X_train2, y_train2):.5f}')\r\n",
        "print(f'Validation score(data2)：{clf2.score(X_val2, y_val2):.5f}')"
      ],
      "execution_count": 78,
      "outputs": [
        {
          "output_type": "stream",
          "text": [
            "Training score(data1)：0.69803\n",
            "Validation score(data1)：0.64804\n",
            "\n",
            "\n",
            "Training score(data2)：0.80478\n",
            "Validation score(data2)：0.80447\n"
          ],
          "name": "stdout"
        }
      ]
    },
    {
      "cell_type": "markdown",
      "metadata": {
        "id": "gAH8OqwJ2FYn"
      },
      "source": [
        "基本的にトレーニングデータに対する精度は検証データに対する精度よりも高く出る。これはモデルが学習済み（一度解いた問題）だからであり、未知のデータ（初見の問題）より高く出るのが通常となる。もし逆転してしまっている場合には、ソースコードに何らかのミスがある可能性がある為、チェックしたほうが良い。"
      ]
    },
    {
      "cell_type": "markdown",
      "metadata": {
        "id": "ScjPy6Mt3RjV"
      },
      "source": [
        "![タイタニックスコア.png](data:image/png;base64,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)"
      ]
    },
    {
      "cell_type": "markdown",
      "metadata": {
        "id": "yRArERGa3rus"
      },
      "source": [
        "実際にKaggleに提出したテストデータのスコアと検証データのスコアを見比べると、やや乖離は発生しているがいるが、今回ランダムに分割したデータにおいて、検証データのスコアを上げることが出来ればテストデータのスコアについても上がりそうであると仮説を立てられる。"
      ]
    },
    {
      "cell_type": "markdown",
      "metadata": {
        "id": "4PaJZeUs7vGu"
      },
      "source": [
        "その為、検証データのスコアを指標としてモデルの改修を行えば良さそうだと方針を立てることが出来る。"
      ]
    },
    {
      "cell_type": "code",
      "metadata": {
        "colab": {
          "base_uri": "https://localhost:8080/"
        },
        "id": "dojQr-871Z7u",
        "outputId": "36cf0920-2282-401e-b5f5-6a5ebb60bc19"
      },
      "source": [
        "# 試しに第2回のデータを用いて他のアルゴリズムを使用して検証データのスコアとテストデータのスコアを見てみる。\r\n",
        "# ランダムフォレスト\r\n",
        "from sklearn.ensemble import RandomForestClassifier\r\n",
        "\r\n",
        "clf3 = RandomForestClassifier(n_estimators=50,random_state=42)\r\n",
        "clf3.fit(X_train2,y_train2)\r\n",
        "\r\n",
        "print(f'Training score(RF-50)：{clf3.score(X_train2, y_train2):.5f}')\r\n",
        "print(f'Validation score(RF-50)：{clf3.score(X_val2, y_val2):.5f}')\r\n",
        "\r\n",
        "clf4 = RandomForestClassifier(n_estimators=100,random_state=42)\r\n",
        "clf4.fit(X_train2,y_train2)\r\n",
        "print('\\n')\r\n",
        "print(f'Training score(RF-100)：{clf4.score(X_train2, y_train2):.5f}')\r\n",
        "print(f'Validation score(RF-100)：{clf4.score(X_val2, y_val2):.5f}')\r\n",
        "\r\n",
        "clf5 = RandomForestClassifier(n_estimators=200,random_state=42)\r\n",
        "clf5.fit(X_train2,y_train2)\r\n",
        "print('\\n')\r\n",
        "print(f'Training score(RF-200)：{clf5.score(X_train2, y_train2):.5f}')\r\n",
        "print(f'Validation score(RF-200)：{clf5.score(X_val2, y_val2):.5f}')"
      ],
      "execution_count": 79,
      "outputs": [
        {
          "output_type": "stream",
          "text": [
            "Training score(RF-50)：0.98174\n",
            "Validation score(RF-50)：0.79888\n",
            "\n",
            "\n",
            "Training score(RF-100)：0.98174\n",
            "Validation score(RF-100)：0.81564\n",
            "\n",
            "\n",
            "Training score(RF-200)：0.98174\n",
            "Validation score(RF-200)：0.82123\n"
          ],
          "name": "stdout"
        }
      ]
    },
    {
      "cell_type": "markdown",
      "metadata": {
        "id": "wMShQLLp-tYM"
      },
      "source": [
        "ランダムフォレストの決定木の数を増やしていくと、検証データのスコアが上がっていくことが分かる。決定木を増やすほど、汎化性能が向上しテストデータについても未知のデータ（テストデータ）への精度も良くなると思われるため、Kaggleに提出してみる。"
      ]
    },
    {
      "cell_type": "code",
      "metadata": {
        "id": "cfqU6fX8-scQ"
      },
      "source": [
        "y_pred3 = clf3.predict(X_test2)\r\n",
        "y_pred4 = clf4.predict(X_test2)\r\n",
        "y_pred5 = clf5.predict(X_test2)\r\n",
        "sub = submit\r\n",
        "sub['Survived'] = y_pred3\r\n",
        "sub.to_csv('./output/submission_RF-50.csv', index=False)\r\n",
        "sub['Survived'] = y_pred4\r\n",
        "sub.to_csv('./output/submission_RF-100.csv', index=False)\r\n",
        "sub['Survived'] = y_pred5\r\n",
        "sub.to_csv('./output/submission_RF-200.csv', index=False)"
      ],
      "execution_count": 80,
      "outputs": []
    },
    {
      "cell_type": "markdown",
      "metadata": {
        "id": "yWG3ZI9tGpGE"
      },
      "source": [
        "![タイタニックスコア_ホールドアウト.png](data:image/png;base64,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)"
      ]
    },
    {
      "cell_type": "markdown",
      "metadata": {
        "id": "sB9R1hdOMXJL"
      },
      "source": [
        "すると、期待に反してテストデータのスコアが検証スコアと一致していないことが確認できる。こうした状態のまま検証スコアを上げていってもモデルの汎化性能が向上せず、過学習してしまう可能性がある為、信頼できる検証スコアを手元に構築することが重要となる。"
      ]
    },
    {
      "cell_type": "markdown",
      "metadata": {
        "id": "9WkWKwq5M85H"
      },
      "source": [
        "乖離してしまう理由は多岐にわたるが、例としてはテストデータと検証データのデータ分布が違う等データの中身に起因するケースや、そもそも検証データの切り方が不適切（例えばトレーニングと検証の割合や、層化抽出を忘れてしまった等）であることが考えられる為、これらを考慮しながら信頼できる検証スコアを模索する必要がある。"
      ]
    },
    {
      "cell_type": "markdown",
      "metadata": {
        "id": "Krwlo1E5JETi"
      },
      "source": [
        "###２.クロスバリデーションによるモデルの評価"
      ]
    },
    {
      "cell_type": "markdown",
      "metadata": {
        "id": "8Vvzcu84LPKa"
      },
      "source": [
        "![クロスバリデーション.png](data:image/png;base64,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)"
      ]
    },
    {
      "cell_type": "markdown",
      "metadata": {
        "id": "w0EYZoQMJUgS"
      },
      "source": [
        "ホールドアウト検証ではバリデーションデータを学習に使用することが出来ず、全てのデータを効率的に使用できないという欠点がある。学習に使用できるデータが大量に存在する場合はあまり問題にならないが、今回のようにデータが少ない場合は出来るだけ多くのデータを学習に回したい。"
      ]
    },
    {
      "cell_type": "markdown",
      "metadata": {
        "id": "aM5WQyxYODSI"
      },
      "source": [
        "クロスバリデーションは上図のように、ホールドアウト検証を複数回繰り返していくことで、検証データの量を確保しつつ全てのデータを学習に回した場合のスコアを確認することが出来る。（上図「テスト」がホールドアウトの検証に相当する。）"
      ]
    },
    {
      "cell_type": "markdown",
      "metadata": {
        "id": "pQ1SWB7PP0Fg"
      },
      "source": [
        "最終的なモデルの評価は、各回（イテレーション1～4）の検証スコアの平均値で評価を行う。"
      ]
    },
    {
      "cell_type": "code",
      "metadata": {
        "colab": {
          "base_uri": "https://localhost:8080/"
        },
        "id": "9iHS25OG-gib",
        "outputId": "c14130dd-ae4c-4249-e714-a947682b273f"
      },
      "source": [
        "# 第2回のデータを用いて作成したモデルをクロスバリデーションで評価する。\r\n",
        "# sklearnにはクロスバリデーション用のライブラリとして「KFold」と「StratifiedKFold」があるが、今回は層化抽出を行ってくれるStratifiedKFoldを使用する。\r\n",
        "from sklearn.model_selection import StratifiedKFold\r\n",
        "\r\n",
        "# 層化抽出による分割\r\n",
        "# n_splitsで何分割するのかを指定する。今回は5分割する。\r\n",
        "# 5分割・・・892÷5 = 178.2　となる為、バリデーションの比率はホールドアウトの8:2と変わらない。\r\n",
        "# 5分割することで、バリデーションの比率を2割に保ちつつ、新たに178件のデータをトレーニングへ加えることとなる。\r\n",
        "skf = StratifiedKFold(n_splits=5, random_state=42, shuffle = True)\r\n",
        "\r\n",
        "# 5回分のスコアを入れる配列を用意\r\n",
        "scores = []\r\n",
        "\r\n",
        "\r\n",
        "# 5回学習\r\n",
        "for train_index, val_index in skf.split(X_data2, y_data2):\r\n",
        "  X_train, X_val = X_data2.iloc[train_index], X_data2.iloc[val_index]\r\n",
        "  y_train, y_val = y_data2.iloc[train_index], y_data2.iloc[val_index]\r\n",
        "\r\n",
        "  # 学習モデルは毎回初期化する（重要）\r\n",
        "  clf6 = LogisticRegression(random_state=0)\r\n",
        "  clf6.fit(X_train,y_train)\r\n",
        "\r\n",
        "  # スコアを配列に格納\r\n",
        "  scores.append(clf6.score(X_val, y_val))"
      ],
      "execution_count": 81,
      "outputs": [
        {
          "output_type": "stream",
          "text": [
            "/usr/local/lib/python3.6/dist-packages/sklearn/linear_model/_logistic.py:940: ConvergenceWarning: lbfgs failed to converge (status=1):\n",
            "STOP: TOTAL NO. of ITERATIONS REACHED LIMIT.\n",
            "\n",
            "Increase the number of iterations (max_iter) or scale the data as shown in:\n",
            "    https://scikit-learn.org/stable/modules/preprocessing.html\n",
            "Please also refer to the documentation for alternative solver options:\n",
            "    https://scikit-learn.org/stable/modules/linear_model.html#logistic-regression\n",
            "  extra_warning_msg=_LOGISTIC_SOLVER_CONVERGENCE_MSG)\n",
            "/usr/local/lib/python3.6/dist-packages/sklearn/linear_model/_logistic.py:940: ConvergenceWarning: lbfgs failed to converge (status=1):\n",
            "STOP: TOTAL NO. of ITERATIONS REACHED LIMIT.\n",
            "\n",
            "Increase the number of iterations (max_iter) or scale the data as shown in:\n",
            "    https://scikit-learn.org/stable/modules/preprocessing.html\n",
            "Please also refer to the documentation for alternative solver options:\n",
            "    https://scikit-learn.org/stable/modules/linear_model.html#logistic-regression\n",
            "  extra_warning_msg=_LOGISTIC_SOLVER_CONVERGENCE_MSG)\n",
            "/usr/local/lib/python3.6/dist-packages/sklearn/linear_model/_logistic.py:940: ConvergenceWarning: lbfgs failed to converge (status=1):\n",
            "STOP: TOTAL NO. of ITERATIONS REACHED LIMIT.\n",
            "\n",
            "Increase the number of iterations (max_iter) or scale the data as shown in:\n",
            "    https://scikit-learn.org/stable/modules/preprocessing.html\n",
            "Please also refer to the documentation for alternative solver options:\n",
            "    https://scikit-learn.org/stable/modules/linear_model.html#logistic-regression\n",
            "  extra_warning_msg=_LOGISTIC_SOLVER_CONVERGENCE_MSG)\n",
            "/usr/local/lib/python3.6/dist-packages/sklearn/linear_model/_logistic.py:940: ConvergenceWarning: lbfgs failed to converge (status=1):\n",
            "STOP: TOTAL NO. of ITERATIONS REACHED LIMIT.\n",
            "\n",
            "Increase the number of iterations (max_iter) or scale the data as shown in:\n",
            "    https://scikit-learn.org/stable/modules/preprocessing.html\n",
            "Please also refer to the documentation for alternative solver options:\n",
            "    https://scikit-learn.org/stable/modules/linear_model.html#logistic-regression\n",
            "  extra_warning_msg=_LOGISTIC_SOLVER_CONVERGENCE_MSG)\n"
          ],
          "name": "stderr"
        }
      ]
    },
    {
      "cell_type": "code",
      "metadata": {
        "colab": {
          "base_uri": "https://localhost:8080/"
        },
        "id": "ibvneKzoU-0G",
        "outputId": "ed7e0c8e-aa04-4fe3-8f15-43bb17849105"
      },
      "source": [
        "# 配列の中身を表示\r\n",
        "print(scores)\r\n",
        "\r\n",
        "# 平均値を表示\r\n",
        "print(f'Cross Validation score：{np.mean(scores):.5f}')"
      ],
      "execution_count": 82,
      "outputs": [
        {
          "output_type": "stream",
          "text": [
            "[0.776536312849162, 0.8033707865168539, 0.7865168539325843, 0.7808988764044944, 0.8146067415730337]\n",
            "Cross Validation score：0.79239\n"
          ],
          "name": "stdout"
        }
      ]
    },
    {
      "cell_type": "markdown",
      "metadata": {
        "id": "U5s19NVwWlZ6"
      },
      "source": [
        "各回の検証スコアを見るとばらつきがあり、検証データの切り方によりスコアが変わってしまうことが分かる。"
      ]
    },
    {
      "cell_type": "markdown",
      "metadata": {
        "id": "zFf6FK7WXEQu"
      },
      "source": [
        "最終的なスコアは平均値である0.79239となる。ホールドアウトに比べて若干下がったが、Kaggleのテストスコアに近づいており、クロスバリデーションにより検証スコアの信頼性が上昇したことが期待できる。"
      ]
    },
    {
      "cell_type": "code",
      "metadata": {
        "id": "CzpbkLmGVrG9"
      },
      "source": [
        "# ランダムフォレストで試してみる\r\n",
        "skf = StratifiedKFold(n_splits=5, random_state=42, shuffle = True)\r\n",
        "\r\n",
        "scores_50 = []\r\n",
        "scores_100 = []\r\n",
        "scores_200 = []\r\n",
        "\r\n",
        "# 5回学習\r\n",
        "for train_index, val_index in skf.split(X_data2, y_data2):\r\n",
        "  X_train, X_val = X_data2.iloc[train_index], X_data2.iloc[val_index]\r\n",
        "  y_train, y_val = y_data2.iloc[train_index], y_data2.iloc[val_index]\r\n",
        "\r\n",
        "  # 学習\r\n",
        "  clf7 = RandomForestClassifier(n_estimators=50,random_state=42)\r\n",
        "  clf8 = RandomForestClassifier(n_estimators=100,random_state=42)\r\n",
        "  clf9 = RandomForestClassifier(n_estimators=200,random_state=42)\r\n",
        "  clf7.fit(X_train,y_train)\r\n",
        "  clf8.fit(X_train,y_train)\r\n",
        "  clf9.fit(X_train,y_train)\r\n",
        "\r\n",
        "  # スコアを配列に格納\r\n",
        "  scores_50.append(clf7.score(X_val, y_val))\r\n",
        "  scores_100.append(clf8.score(X_val, y_val))\r\n",
        "  scores_200.append(clf9.score(X_val, y_val))"
      ],
      "execution_count": 83,
      "outputs": []
    },
    {
      "cell_type": "code",
      "metadata": {
        "colab": {
          "base_uri": "https://localhost:8080/"
        },
        "id": "pBB01gPCaW95",
        "outputId": "b72ea5e2-10ab-4b4e-cf83-f28358f29b34"
      },
      "source": [
        "# 配列の中身を表示\r\n",
        "print(scores_50)\r\n",
        "print(scores_100)\r\n",
        "print(scores_200)\r\n",
        "\r\n",
        "# 平均値を表示\r\n",
        "print(f'Cross Validation score(RF50)：{np.mean(scores_50):.5f}')\r\n",
        "print(f'Cross Validation score(RF100）：{np.mean(scores_100):.5f}')\r\n",
        "print(f'Cross Validation score(RF200)：{np.mean(scores_200):.5f}')"
      ],
      "execution_count": 84,
      "outputs": [
        {
          "output_type": "stream",
          "text": [
            "[0.8435754189944135, 0.8146067415730337, 0.7921348314606742, 0.8089887640449438, 0.8539325842696629]\n",
            "[0.8435754189944135, 0.8146067415730337, 0.7752808988764045, 0.8146067415730337, 0.8426966292134831]\n",
            "[0.8379888268156425, 0.8089887640449438, 0.7865168539325843, 0.8089887640449438, 0.8314606741573034]\n",
            "Cross Validation score(RF50)：0.82265\n",
            "Cross Validation score(RF100）：0.81815\n",
            "Cross Validation score(RF200)：0.81479\n"
          ],
          "name": "stdout"
        }
      ]
    },
    {
      "cell_type": "markdown",
      "metadata": {
        "id": "GN774T_1xwxT"
      },
      "source": [
        "![タイタニックスコア_ホールドアウト.png](data:image/png;base64,iVBORw0KGgoAAAANSUhEUgAAA7MAAAIECAIAAABExO5BAAAAAXNSR0IArs4c6QAAAARnQU1BAACxjwv8YQUAAAAJcEhZcwAADsMAAA7DAcdvqGQAAHW7SURBVHhe7d3Pa9vY/+/x/BdZznKWs+wyyy697NLLLLPM0ktDoJhAIFkUvOjCkMUYCkUUPLEJoQqZUPVLaEVbqG4oQTSEKpRQlWkg97yPjqQjWfKP1P1MM30+MFPr6PyS3OJXzhw7SzcAAAAAbm5IxgAAAIBYeh/8Px48ePDgwYMHDx48eLBmDAAAAAiSMQAAACBIxgAAAIAgGQMAAACCZAwAAAAIkjEAAAAgSMYAAACAIBkDAAAAgmQMAAAACJIxAAAAIEjGAAAAgCAZAwAAAIJkDAAAAAiSMQAAACBIxgAAAIAgGQMAAACCZAwAAAAIkjEAAAAgSMYAAACAIBkDAAAAgmQMAAAACJIxAAAAIEjGAAAAgCAZAwAAAIJkDAAAAAiSMQAAACBIxgAAAIAgGQMAAACCZAwAAAAIkjEAAAAgSMYAAACAIBkDAAAAgmQMAAAACJIxAAAAIEjGAAAAgFh4Mo6jMIpic/BDRWF4i3Fu1+o/7BY3hHsIAMAdEAX+/O/YcaSi3K/7Pr/AZBz5w16v74h+r+d4oSmvEwfDrheZg/mFbq/nThtjzO1aLVzNtUde19brD/3b36DZzHZD5Ocd8/SnuYcAAPw33OLtX4JEdYrKz+hn/TmSRBy6Ts9MQk3jx4eQn9HCknHo9frWK6RicncYmINq35mM77QJydgujgL1w8bPG+QBAMD3k7f/YWDeZ2N58+9Oe/fP829Z/ZkpIr+v0nA2jdBTh7/gQtiiknEcOKWXIVtmjEPfXsvPVvZN3FLH7nDoekGpjpzxhs7QTV4jUy2vVehW/TVSp1VlP31FRRwGutDLC8cnM9ZMBo/T8Qr9FanexxpPbJtORxXPmIyVyOvbP+6pPryx21V5pVrF9ckU5d6qcuk3vyHqmdTSZ+wWqtwb9ruO65uyBd5DAACQJOP8ndUKt+qt1HrPlXdg815sqoy9a9uN8+pakiFU7WKGMKx2Rnns6taV5bpppMZXZ9IUo1NBKS/8hBa6Zuxar2quGPfyTCjPhooKeUrg9tUPKkn75IykP1WufmRx0lqB52Qr01a3oStjq1cgClUF04v60afnqKQYq9Ts9itaqVF0s9LoZvDkhCqv/v8Q8oOVHjOKQl/1Y19SZVuVcGU6yQl1PeUfJLSKZCwjpb1EvpP3kV1ozZXq6+sNfV1dNrok21tkio66oVIuFfMh1TO50Wby9p2Wo+7QVw2SO7ugewgAABR5Y03f1IW8jXb1cq1+lieDvKI+0e9L0PRV4Oypg/yt2Xpnz/pVOaTbc4ae73tDp5fVtqgkZ60ZF9W1zst92YiRrjGns3Ncz9eLdqpAOneDIPBVB1mE+Qktcp+xpDXZHKN+GrB/nLCClCI3KzmSZ/YyfRw4dnrL7plqbwfMnjmTd6ueWXc4Tp7l42hWZ1mrnp3XstH14PmJUrWctTldt5U6tW2lRvFS7XuSKd6qRH4h6m+V/X811GE2YatRdqV5ohbqJzX9l700xcIN6Vp3Xf+8kR4Wh1jcPQQAAPqN1U4y6l3UvCPrp8V3YDsZ52+ucmidyd/Z00LHzlyhp0KrFSkMvY9DdhjrLJcHnbrWpXK9aqinZF2BJqHb2mOrzia56We0wGRsRLLJQP04oG5ackfyICXkZiVH8qzwsmRZTs7kf0NU+/wgb251Kx8Jc4bqNbQ/SimvT0+Wmgufr8xa6RSXNE+koxcHtwYcJ5/eVFerf0wynda0Dd3ipcrfpYpei7cqkXWi+pB124yf/vhQeaVqhMo0WpqiNaR6Vrwj+aSLN2Gh9xAAgF+dvLGa7zBw+pJNszVVeQctvQMnp0onrGPrTFa9XHsiHeSGMg8zjbrWutyONxJIdDQptYhUMDb/z1uT/QBWTPi5LD4ZG7J7IFkBzoKUJjcrOcqfGVmBPMnvmGqfH+SNSt0mm371l2LkhVEge1/Ui5v9FctaqVep+KKkPRcHtwYsiDwd/j3fV4FUQqquU9dWnpSScU2v43/11ESzv2Wy17cgXZsfv9Kx6zNKU7SGVM+sH+8UVWBqFqe7qHsIAAAUeWPNk2NxnasUMe1kXFgBC93xDRhZ9VI3s9E7JSTK1bUeK5cCvWRWOiPz6OstF7mfdrPxopJx+j/rc7LEaV48e31UblZyJM8KUcxqMXcyzqhOxtdKI98xyTRvla+IJtLRi4NbA9p0ZfNc6pgrrG2rMuTY39+KyY9fk+oi3z6S7W6ol19p+fqM0hStIeWZ3cJaES7ehAXdQwAAIOSN1X5vzsk7qPUWKvEhqahPWFFElmuTpGE1yftVGaKQuaJiABd6j0RhEskQqqSudblcGuhcUJq2HI6Hs5/UopKxhMO+l20v1t/1kb7I+sN5ySn9NWTmXsl9svZgyyKziVlyJiuX1zU/kFP5y62fqaK8l6ypZNHsNVGzMSEvT3Xqr5dVIx+9OLg1oE1SavYSy7VmU6lpq/7G2pfqZHehwJqdoj9Qp9JwWiBRNe9dzTiZfs2VFq9Plef/YKwpWkPKs3xPvaqXh3lplEfgBd1DAAAg5I3Vfm+2SOJVb876Y/a+3uKQVJS3Vvmf18lniOQLCNLsKWesd3bTr/SjQoQEWhUvhllti3pP7/YcLwm9Mpo6NG/+da3Tcnluf82bNYeE3vdqYqKuOD78z2KRn8CTe2gUv6Q6++ZouXtZStJ5KdQpsa+3AWQt5Ez+N0S9rvmBbqTrWflM99/ry96cfHtzMh9TmvVttVIHyWcGVUpV800DaHFwa8CC5JJk4vK1ENN2U+iDvIV9Fwpkdhm9/z37WSNhrkkuybrDlVeqqFGkqHB9pSlaN0Q/C+RHF91/fiOFvEzpVv9F3UMAAKDIG6v93lyQxitZkguzisk7rU6pycnsXVvOWO/seb86PpdrFyTv6UYau4261oXydCxrDqkkk5Qr/oR+2D5j3DWFwAsAAPDrIRnDIBkDAIBfHMkYRuQ79hcdAwAA/GpIxgAAAIAgGQMAAACCZAwAAAAIkjEAAAAgSMYAAACAIBkDAAAAgmQMAAAACJIxAAAAIJY+RREPHjx48ODBgwcPHjxYMwYAAAAEyRgAAAAQJGMAAABAkIwBAAAAQTIGAAAABMkYAAAAECRjAAAAQJCMAQAAAEEyBgAAAATJGAAAABAkYwAAAECQjAEAAABBMgYAAAAEyRgAAAAQJGMAAABA/FvJ+J/48nMUX5ujuV26T184p1/N0czi96+2nwaROVqE+CpSF2IeV7Ep1Qqn9ONq4oTjq+DtO++s2Im4jq/OPe9DUNF8wikAAPCfE0eBH0RjWSEXjzNnNFOUMqWZSd1XnjP92MyZO+rfSsZBe2PQePbJHM3r4tWDjcG9J2fmcGbe7mBp47lzaQ6/X/hsf2lD9Zk9Rmuji5pTg6WdkzA5V/bFf3rwW1ptefO5c5b9zHA57I2W01P3un5gypUJpwAAwH9M5HVbzUai2er5VRE0ctumhqWfJQS/a4pS+ambwGmvmlLVfdezFxLtc43VjpuemzLcXXQ3k7FyNb62Oouv0dU/5uki6Ph76JhV4fPhroqqe523kmuLpyauGb89vrext3ao78blWXdnsPToVfJ3LvxrX3XY9q5ubq6jty8aG4P7T8/1mUmnAADAf0w0bDUabSeU+BMH/XV1kAVUm1m4TQROq9Hc9tLIJEG25QTmpDAnJPuuNdbSOBwNVeBtDdPu/V6zsd5Lz7mdpnXO9JMoDXcnLS4Zf/vkPnux9mjU6B73XptV2ejkZWc3X8sMDo87T0/1vUyS8bkqWd3aX+29HH40gTVp4l8E3ccHqqv++y9678Rhc/NgLd8Ice7sHndPPuvn19Hpm27veUMqvAlUUExMn48KlK+2Hx+sbD3vPDsNv5nSZJLBe33q0WHXm7TCrOPvkWuOlGB9Y7DyVJaGx07VCkfPVzZfeObIbhh2NwfLj9+lf8OuvT/3lh4e65oTTpX8E3ov17v7ci2H5+kNVDf13Hl6uLo1aj5+6Zypm3xzo+757nHvbRbfP7tPjzt/nd3pv98AAPwn6OTqWCu8fTuf1gj6a431QqNGI1/wtenF33yxt3gYBb6vE7lWqmopD3cnLSoZf+rvDJY3D7ZH7/pPDu5tDFZHEltL6dDtZTsKJBn/sTm6/+iws6tS72BpY7+ntxDoJnv3dg7W0/LmzqjZO+483v9tY3Dvzw/S2lpyjl8fqeEavRPn8GR9a7C0maTDqfO5Dp7tL6uGj4+TCSyn2VQm+XBvZUtN4HhtR01gr31Su4t3LP7eJhkX6Yy79VL+Xl36q+nMDe9QbtTHiacKvri9vaUNfQN7ByvqBvYC+asdn7Y3B7/tHPUO3/RkS0ayzn3e3bLSth6iaQ8BAAD+FTqO9uzQKRsjqlNuStoUV3ClTc8NXEcMPXvPsCxJr6U7NGRduG7tt/bc+HB30oKS8cWr5sZg3UvWfa+jt+88vQY8ORlnewZubj50Hg6W9Quumxz0k826utskaKpuS82TZCxbh5McqVyduyd6WXTqfOJ3KsLeNz2b+kkKlFE2ng/N2vPZtkrnhb+JBbrDCbspBvc2RyvpY/t11kR2ButHOTrHJyroqyyuF3E/njQ2Bu0TfSJxcmTi74RTttOX9zcGa3/r3lTnfx+tbB466t6+Pv5tY9Q9TYq/BCenwWW+A2So/1JHowP1QixwTzYAALil8YVaWf+t3k9hjK/g6k6aa52uysVd2Ti8bvcoeyHWGqvrrbVmY70zHMs+ss1Zn9t20/hk+08sGCuLXDNWyWztyYnz9jxOdybkSVSrjLYJHXBP1P0sNilUq2yerBnLVoHRqX+RLe5Om8/ro+U8GiqfnUeDpcdvVCa0RlE+9VQ/U5JxFnPVo/QJvNHq7nEnfTh6uPjsdOi9Sx+h/Vc6fn2sguyDZ6aH2vh7NvGUJfxLzeGwFL6FXjNe3jxYf+q77y/zH++Snyj+VrdRboi1WwMAAPx75k7GM6zg+l1rQ0bkdlZVIHZc3/dd+bxdITVrsqnCHUqkXt8ufD5P+Y8sGCuL3Wd8vLq197sOiMmq5+RkbG8GCJ6Okm2y8yZjWRI+fdN9fLDyULLpb49emRdy8nzKK6zJgvQr1fn8ydisGbu7e9Zic/napzs9eaAi/q7e7ZAY2zIR//1cTVsW1Cecskyag95n3Nzc09+JcdA334aRBmLdv47IAADg36aCa6PR9c2REnvbjUZ9FJUV3KnbkGVzhelCntr1y9uabXKuWczNMw13NywwGX9NX50LSZM6XCbBMU1mX5xuIdr+YTYNK5/7jwZLj3x1S4thbqZkHMfm03uxd/hHtpJaOx/duV5ztZKfbOdI5jN/Mk5neyFpMt0JPTGVjjuTWGw2Aef06F1Zyda+Dh8PljaTrSMTTllOikvjl+HQOzV76OP02q+CdfVDRXqNOmEfObKVYubJAwCAH0v2ATd7eTQuLPiW6RVcO0cnQtdxhnnU0F0mCVcvSdsN7DXqUrPknDWVuuHupgUlY72f9cEzHbouTztbg+XuG3m1Xh+rqHrvse9/PHefHMjyrRVtlzf2OyefostP3rPnNR/am5qMk0R4NLxU4fhr+NfB8sbe9vva+Vid6+0Tm4fO2Zf46pP3dF8nSFk3vX0yvrmWle90KXqOZKxj8dLWkZPvsjD5VeVUdUWrzz6Exbs06VSsrnfUfJZcwYfO5mB556X38XP08YN8H5z+hGL896Fq2/ZU/ev47JUE+uzLofUO7OXCzy0AAOBfFnvbeo9vEMVR4G6v55sXIne71e5bX28s37JWlZqtLuLI77fUQbosrL8Tbr3nhuqU6n/Yaeb962arHUeamXaFHFw33N20qDXj62D0fEX+v7ze0rDzQr5mV3zxnsh3SqjC+7uBU4y27cOgLd8+IY/Gkw/J7Z8zGd/cXH3YVoHPDJ1t862eT6Hzq7Puo730N2Xsb782M/6OZJzGSr1fefZkrGuaqaaPbKeH/BIQvSFEHtld0mpOXb5RSfe3bPn54k17y9SxfodI/rqox0rht4TojSUbe53XSU0AAPBTyH/fRnOtM0yjyk3oqJicbznWS8F1K7ihm/22kNW2Y/+v6jhwOmvpLxJZbXULW5ilWfqrPkrnJg53By1uN4W4xe98vo6vPmefkLs9+VXM5hsYLDPMRzWc5Vcr690XSY7MHoUPwP1YX6PLurs04ZTlqvL3jMzWFgAA/DTiBfz+5QldTOp+EUP/7BabjP/DJESWHmRKAACA/xKSMQAAACBIxgAAAIAgGQMAAACCZAwAAAAIkjEAAAAgSMYAAACAIBkDAAAAgmQMAAAACJIxAAAAIBaYjKPAGzqOM3R9+zdtq2JXF3vh3L9RMHR7/WJnd0fkO3NP3XsyWht9Mgc3l8Pe/oOnZ+ZoIRbyi7gBAAD+oxaWjEO37wY6CkbB0PFMKIz8fj+JxKq054ZJ6cziaO40HQfDYfAT/FbvyOumN2Fmbm/QeJYk4y9ub+9eb8EXovpvn5jnAAAAKFlUMi4skYauk2S6yLPScBw4Y5k1DoMoVv/xfV/HavM0XV6OgiRsqydhpP6jziX1tOysYp7LunW/P/R8P+0iNq3sFeuqskwyhdLJfGg1k+zEpH6SZJy2SyrEYT4vRZ0stkyT8XXwbP/3R68CU3xzc3U+fPais3vcPTw3V3x52j0Mo7evtlWhp5pc+SNV4UX/7VVyXmXrwDtRZztP3wSX1+o4ODxe3Rrc76qSU93JdfTW76oKT07cj/9IAQAAwK/tR+wzjvx+kodL67cVy6iR13eGfhipjOn2ZcuFCpEq3faTTRRZe/Wk77i+CtH6ZNKL3Xv6XM47jheEKkgnxY4r2TsKpTgZXOV2KVM5VQ1eiupqPrL0rU866U6O0O05nppjHPnu0DGjV/edUxcrG0t0s8A1PxOoHw6yEaV9aXSdjC9ULP5t5ySPxfFpe3Nv9elpcHk+7I3u/flBCj+eNDb326rw7F17a+/+zvPtk/Pg5MWDjYP+hTr91dvdu9d96Z59Dryj+5vHnprQ+3fbjwbNJ++Gry/UsOFf+79tHTnvP4VvT1Y3DxxpBQAA8EtbfDKOvGxpuBSF7ShrWDXU03R9Ocu5VjLOW4ZuKTcXntulKvrmC9mR7+j+C+vYE6QdFZe6g6GZcOj1PHs5fDxjdwur6D3dTHVqKlY0kWS8srN/b2PQHH02RYn4q3lydtLYOZFhVTLeMuk5fLa/8tRMJd8v8e1r2vlFb2u/91GeFXdTfE33HF8XywEAAH5RC07GKhZby6el/RMVmbSYjNOneSg1KdeOu1lFuzB/bpWqp72+k+n3TGeh66jyoWttzMhFgSwMS3VT35qXUjW4UqwkiiV5dRON9a3RpywqoS5tHrkfg/bmfu9MtkBo19Hrk+3HByubeysP95azZJw80ck43Z1sZd+L096Tw+bmSLX6faMqGV+dO08PV7eSCiRjAACAhSZjFf+cfB1VpMu7iWBoH2lWfrSepjkyy5OFHFoVTvPnVmmh1Ri9C8Ja9xWR3x/66aZg07qY56sGV1QlKwcLVdFqpoJweqSjcWUwluSaZNz45Oje5pGX9P/+xb2dF97HL/I8C8RTkvHZ9ub+9ttPelX4U29nPBl/drp7a4fnUSz5u5CYAQAAflULS8ayEjueQ0PPLNRKVBzb1ZsHzeLTNHZm8bOQQ61w2jfBVj3tmgrqabaLQXYsZFk88pPvzpA/TVeRX5pyYQ6umbqauIrLpnDYMzVU3+mOY11cjNi6q3RKSRdZEFY/LgyHWVC2Zck4+RCe+W6Kk6OlXtL4OhwdzLZmHLQ3Dt2k6OLVarpm7O0OVg91wk7icvKNcN8+dDZJxgAAAItKxhJNC9LQqNLnsN+XvQkqC9ohNPE9yVj33ev2en3HC/y8giwF900ilrwuw9vjmxlJWd6poQZKzjlDz8u7VE10mR8F1izzvtPkbJFZBiql6/PFa1c/LowFac1KxspFb2fw4NmFetJ/tPe73hfR3D2cbc34Ovjr4PeHe7IB49HRerrP+Ob9y8bG4PfHb9Rs45OjFakwWtk6andJxgAAAD/gE3j/bVZ+vzX58N7cfVx9TnY+zOHbl+gq/eheta/RZbKEDAAAAJLxdJHvOG4QRlEUBm7F97PNI44C+Xq68lI1AAAA/n0k41lIoK39nR7ziKMwnP/3+gEAAOB/gGQMAAAACJIxAAAAIEjGAAAAgCAZAwAAAIJkDAAAAAiSMQAAACBIxgAAAIAgGQMAAACCZAwAAAAIkjEAAAAgSMYAAACAIBkDAAAAgmSMRQj6jX5g/gsAAHA33eVknKaxthuZkn+bmtHck7lNm39f5LaL01YFcvwLZON5XzBzZ2wVRVVmHkleDX4kAQDg+y06GcdR4AdRbI5+NJ2Ka2PGjPljAkkcqWRJtEIeSfSAgdWmrCq91MefyvnPnsvsyVf4riQlfc9+b+fNkgsgE/xBWXG2q4l8xw3MvwP5e1NoUvnKjpv5vi3yatW/4CCsGrT2hBo/DIr/6ENXXb15DgDAHbLAZBx53VZzdb3Vaq2vNltdb9JbumSFibL3+Qk1q1KDnRFmyB9S3TZbEJFJVQSR4nimTnkSU69cM71L5dKUVNGMk5ydntM8vdZeRMVdmTrl2s6Myj6nsf8eTFT+G2Cr7mCWVyB2O2uO3Vo16gc1Y6W9TbsRWuWcZr7aySK3s9pcU/+AW2vN1bY1/8jbXm/of9rqRKdw8YHTauo28o8+n0M0bLWGs/+FAgDgJ7GwZKzeCpv5e2ao3i97vjmYbJagMTs7I6jnE3pOYopUsOrpcJI1KkYVnWySczrnqD/t0coXYupMmkTazSS6TjLXCrVdz08NJKZOKKlZMbAqrpxOXfksCje4ir495rltasMpJrSf4XoCZy3NhZUTtP5SWE/rriWX1lB/Tjfv5Rf/BQe9tTTby71opzFXpedmnnmD/tpaz8+Wxteb3fQfvWpU/NkAAIC7YHHJWHZRmOfKDPHBmL3mLOxEY4WOMqlWV8/uoiStaRJKoaGklfRktXKnEwaqt9jbNUbmNHlS2XWW1F3Nd014amNVoXK2t7q3uUnjyg1I1A2ggnGeCqvuqCpLu7eearp6pfrLSWY00+XqqtU1I88Zpvs/lOwWSGK2f8q1rs7vNuyV4djtNLY904U0m2lKAAD8RH7QJ/CC/vr6jCtGk0LI/OxEVA4dGbuSomZQfAvPQ0EeU7ICeZK0sPtPaupD0535I600Nkihd0vapT5bbmLNbRpVcbLZuimRXpO91KXmMt3x2c4x3yqlTqtvWKowet10EurspEnJRdY3zq/I3OJy1UgFxGztVIwNZxVMmorqv34aGTMLZdbKM9TL82/sbTdKGyh65gaoOsXwW7jraig2VAAA7poFJ2PZa9xqra21+un/Yp1KvYHWRgN5p53Obi7v/Ol7c13oKI1YUU3VmJgexs5LgWv6MSfNH2nvFV1WF9lzUYflKqUat1SIMFPkdWU6evAo0j8dWPe+rkN7ulJnrrlPmaWcViprTGiqm03otuKmF5RfgWQaVpGqULmRILlj1awBVTVzlD+rp2cjP6n0A/10jts7gWyMMKu/43dSjZNE3rEBpa69n2L69AEA+Lkses04Cnzf94bd1mqrfs04yRJT1LzJT3n7t0+rYaqqloqr3sBVL7rImuiEL53o/5/uMe3XNDZ/lEot9lRTVWW6tFZF9enkumZsmFWVJ+X7ZG5Qu9+v6a98PXIlY53UmVw5Oav+W1mlcraKnvCES88ut175mhLWZCsqFKeT3LWaS7OqSp+2sWHTQdM2M8x+BrKVeD2bXXHqIru+sQuVur36hgAA/PR+0G4KveVwtvfoihwxyeTqhXdjdTD2xq0KVA/WG3bV+/fU9/RiF0Y6nDlp/iiV5lTB+IWMd2xXmzqvGc3cj1ScXlNNsbqWNC9d42w9iorGuezk+A1LSIXyCT32pMHlQnTKrx9YsV+RSuMVirNJ5jxh5mnruioJdTY9bfUvTydPb7JYNkJlH6oTfrfUoSpItldEw1ZxgoW9xcWLBgDgTlhUMo48xyl8T5t6357ts+mq4hzv5FYcqFA8a2UMISfluFBcNXr+li5NjEItVT4+ibRfc9L8USpN5WPYxkvtZup5Ogvr6dxkkBkaS7UZQqyuVt1d/TVOHX5Cr8m5tN/Sbc2UxtZtJg5bGFH1Wn/pU+/9eGC0J5PNuDRFQ0qtadRMQs82P1fsSp+cPMU6souiuKk46a7j5lHZ7zXTf9lBP3sq5MKzT+CN70IGAODnt7A1Y/V+2ewMw+RtMQ6HneaMH8GbGjRyU97yJc/YZ1X19LDQUg6St2xpUX7ztntJo4nVk5aWF6SVzEnzR6k0oQ4qOqgcJzvOZ63VdTGFNJtwCxMy1MypuLZaacI5OTFhCnqKNb2OTV8V1I6hTyS9Tb4YfR2lGVWVJVSPU25g9hG1hNWgeE+KR5rUlVXrdO5V0x6fQHVHVY2luLJTRXZRZN/OZvO7zfVe8nOvLClb2VkWidN/9cVNGPqTe3lMBgDgbljgborI7bZWkxjSkN8TMOObYs1beIkOKpMyna5Q7EcVqfo6C5ROmd7KDZKq1himrSiMrMrHp5wMV2hUZJrI+errkDNWvzLL7FCdKzaquOBJ0kuuHjmRzXxSJc3UnNJZ8XTWe2Js6tmLUtOrnB87pTqtvAdZZ9OuRc+qpo4+N9b92IWN87v22mk6Remu3LJ4UVJD182mX3lxY6T6bDWrL0nkdyyXVQyczlpTFxV+A4gin7lN/tWXfruP3nNBMAYA3DGL32ccx/bboX4nLhp7X66oYyeI5C17chipjAbpe/30zFBXU82ssnFluepET7K6kSmtmmg6umKfyvpRTyqoseSE/hBaWdaNda7+Bubjl2dWJelyYs3aCZvzyZDZcVZ9luFLVNtbtEro657SWuZWqqKK6u+lEfTXTCxUg+ja9a1kGjJE+mcuuzGWyk7Gm/4QhX/ZRWNn/N7qjL/qBwCAn8iP+gQe8CuL3E7bCc3Br0dFdb7LGABwF5GMAQAAAEEyBgAAAATJGAAAABAkYwAAAECQjAEAAABBMgYAAAAEyRgAAAAQJGMAAABAkIwBAAAAQTIGAAAABMkYAAAAECRjAAAAQJCMAQAAAEEyBgAAAMTSpyjiwYMHDx48ePDgwYMHa8YAAACAIBkDAAAAgmQMAAAACJIxAAAAIEjGAAAAgCAZAwAAAIJkDAAAAAiSMQAAACBIxgAAAIAgGQMAAACCZAwAAAAIkjEAAAAgSMYAAACAIBkDAAAAgmQMAAAAiH8rGf8TX36O4mtzNLdL9+kL5/SrOZpZ/P7V9tMgMkeLEF9F6kLM4yo2pVrhlH5cTZ6wvidX/5ijxLcv4ftT9/2n+JspyE04BQAA/pPiKPCDqBA4iuJx5kxmQh/Vp0w/NnMmNXVad8a/lYyD9sag8eyTOZrXxasHG4N7T87M4cy83cHSxnPn0hx+v/DZ/tKG6jN7jNZGFzWnBks7J2FybtzlWa+7J3V6gSlRf8vev2zmzUed11/MiYmnAADAf1HkdVvNRqLZ6vlVOTRy26aGpW9lC79n9dH1rNXC2u6Dvim1tN2s5YQu76K7mYyVq+IC7ay+lhdlv4+Ov4eOWRU+H+6Oljf2Om9lLbx4auKa8enL+xuDle7R2qaVjOPT9uZgeeck+HZz8+2T81jl5sNhcs0TTgEAgP+iaNhSgdQJ5f0+DvrrhXRqMWu6icBpNZrbXpoRJDc3O8Okj3DYaTZaQ9PHxO5Nb5oK0GuNdSeNKxO6vJsWl4y/fXKfvVh7NGp0j3uvzapsdPKys+tnP6kEh8edp6f6fiXJ+FyVrG7tr/ZeDj+awJo08S+C7uMD1VX//Re9d+KwuXmwlm+EOHd2j7snn/Xz6+j0Tbf3vCEV3gRXukyZPp/r6O2r7ccHK1vPO89Ow3RPQjLJ4L0+9eiw601aYdbx98g1R0qwrjLuU1kaHjtV7/XLtqd+SPjU28mTcfz386WNUfc0OZJl8ubGYHUklzzhVNnlWf+JunX7q7snbnqHK+7Mt7D/5/H23/kPKnITnryrXeEGAAD/U4Gz1ljL8qg67s+QQYO+HWJ1H3abOPR9E61m7l4n4TxrT+jyjlpUMv7U3xksbx5sj971nxzcS4NaKR26vWxHgSTjPzZH9x8ddnZVdBssbez3zrKl1r17OwfraXlzZ9TsHXce7/+2Mbj35wdpbS05x6+P1HCN3olzeLK+NVjaPPakwtT5XAfP9pdVw8fHyQSWN1/ohnqSD/dWttQEjtdUVN3Ya5/U7g9eTDI2CsnY+3Nv6WFyLYmLnro6fXbCqYKzkwcbg9921B1OLiS5w5V35uvw8WBp62XaxYfOw8Ef5lYDAIB/m94lUXir97uNRqdy1ThVCrH6WFJs5A8d4QaFUzN1X8raE7q8qxaUjPWy5bqXrEpeR2/feXqFcnIyXnr0Kr3jEsWW9Suimxz0k826utskaKpuS82TZCxbh7NId3XunpxLn1PnE79TEfa+6dnUb+r0LKNsPB+ateezbXuHwxjd4YTdFIN7m6OV9LH9OmuihkgednQuJGPrYhP52QmnLKWwG/Yeje4/+VB3Z25Ojpazdei3x3/IVejnAADgX6ejq7VfWDJq3X4KoxRikxatTmd9td11nF6n1Ww00+w7Y/dSzc7ak7q8qxa5Zry0sb/25MR5e559W0KeRLXKaJvQAfdEvSTFJoVqlc2TNWPZ9jA69S+yxd1p83ltBUHx2Xk0WHr8Rr3WxdxZGTpzxZirHqVP4I1Wd4876cPRw8Vnp0PvXfoIrb8+i03Gp/oWmclYqu9M8sPJ/afn6pmsSeeRGgAA/NvmTsZjITZp0Wh2fXOYbC1ODmfrfixrT+ryrlrsPuPj1a2933VAbJ/ItyVMTsb21tjg6SjZITBvMpaFz9M33ccHKw8lm/726JV5xSbP5+RIdhd81DVFsiD9SnVezJ2zJGOzZuzu7lmLzeVrn0FhrLEtE2F3c7C8K+F6wilL4dYVVN0ZJQ3EeUQGAAA/hcjtFCNn7G03GsXka5MQW94nrGOrnWmkIKk0S/c6a5dS74Qu76oFJuOv6e27kISnw2USHNN0+MXpFqKttZP1c//RYOmRr+7kLZJxHCd7A9TLePjHxqB9og9q56M7/3jS2Bis/52tMec7a+dPxulsL/zVfCf09ybjZHvD9vv0K5/191esJROecConvS0/fpfehK/h63fD9/pHkao7I05frqifFkbHfxR+ZgAAAP86iZzNXp5L/e6ET+BVhVjF7zUbHTdPu9Ze4undV2XtiV3eUQtKxjqcPXimv7Pj8rSzNVjuvpHb8lrFrMG9x77/8dx9ciCLlFa0Xd7Y75x8ii4/ec+e13xob2oy1rtpN4+Glyocfw3/Olje2Nt+Xzsfq3O9fWLz0Dn7El998p7u680VkjVvn4xvrmXlO42V35uMb8KumvbW0fDsc3T2rp1/uHDSqXD0fEWV6z0U0UjuxvrheXT5OTg8NHe47pUS59Kteo3y/d8AAOCnEHvbzcb6thtEcRS42+v5XonI3W61+9bXG0tcrUzNgaOatfp+FJf7mNC9ppNz1TaJCV3eTYtaM74OVCaT/zuvtzTsvPDMpoIv3hP5TglVeH83cIrRtn0YtOXbJ+TRePIhuY9zJuObm6sP2ypQmqGzbb7V8yl0fnXWfbQnQVAe+9uvzYy/Ixmrv1fywb5lvV/5u5Pxzc3FG0m9eobLm88d/d0dRs0p/8meRHOzseKL/1T/NKIf6R2ue6WEnrP5JCIAAPipBE57Vf9CjUZzrTNMo8pNKOE03xNcG2JFbPXR6rpZH6KmezFphXpSl3fQ4nZTiFv8zufr+OrzAn6/sfwq5vHfAzfDfFTDKb+0WdO7L5I0mT3Mto0f7ar+V4RMOJX7Gl2O3+Hv/O3cAADg3xGP/7rnuU3o4rbdL2BWP4XFJuP/MMmXpccCAj0AAAB+GiRjAAAAQJCMAQAAAEEyBgAAAATJGAAAABAkYwAAAECQjAEAAABBMgYAAAAEyRgAAAAQJGMAAABALDAZR4E3dBxn6PqF36sdB+7QKRbNIHR7/bkb/Rwif/7L9Z6M1kafzMHN5bC3/+DpmTlaiIX8Cm4AAID/tIUl49Dtu4EOhFEwdLwkGkb+sD/0vWHXHM8hjub9/dtxMBwGP8Ev7Y68+S/X7Q0az5Jk/MXt7d3rLfhCVP/tE/McAAAAlRaVjAsLpaHr6GQXhTorV0bFWJ2L1X9839eVzNMwTYRRkObsMFL/UeeSelp6UpjnsmLd7w8930+7iE2rrEulqiynutJnC6E8H1tNJT0xqZ/kctNmSYU4zOelqJPFlmkyvg6e7f/+6FVgipUvgXeyvXvcefomuLzWJefO09Pw47vu7vH26Cy6+Sf0XnZ2j7tetuRcbhIcHq9uDe53Vcmpvm3X0VtfNe88OXE//iMFAAAA+DH7jCO/74bmuahMxpHXd4Z+GKmM6fYdZ+ipEKnSbd/soUgXgNWffcf1VYjWJ5N+7NXhrKI67zheEKognRQ7rmTvKJTiZHiV2KVM5VQ1eGlVVjXoOZ6aj55QOv/QTQt9d+jkw4/3nVOXK1tKTFdOMtM4cLIRpX1pdJ2ML1Qs/m3nxIrFX73dvXvdl+7Z58A7ur957Elh0H44au6+8c8+9B7t3d86WB+FwXt/fXOv81rl4Iom0ft3248GzSfvhq8v1LDhX/u/bR057z+Fb09WNw+cCz0UAADAL2/xyTjyTBjM1CTjrFA9TZNomnOzJ1mBCN0kN9uF+XO7VEXffAk78h3df+T1Com9Vjo3FWfzwW8Csykk9Hpe1o2deA1Jxvb6ec/0lcbhiiaSjFd29u9tDJqjz6Yo8e1rWvOit7Xf+6ieBO2NQzcpOzlaevwmqRA+2zf7MSqalHZTfE33HF+zywIAACCz4GSsYnHlIupYmV1oPc3SbfrEjrtZRbswf26Vqqe9vpPp95ITceg6qnzoWhszcnEYeK58hlDVT8YpTtwcFWZUriOKJXl1E4113NanLCqhLm0euR+D9uZ+7yzZNaFdnPaeHDY3Ryube79vZMn4KE/GPdNXnowrmhST8dW58/RwdSupQDIGAAAwFpmMVQh08tXU3Hh4VKxC62mWI9MnhRyaVrQL8+dWaaHVGL0Lwlr31eQThOne33Sc4iKzKS31reqkkzdUPauVCsLpkY7GlcE42U0huTY+Obq3eeSZ/s+2N/e3337SS7yfejuzJOPKJnYy/ux099YOz6NY8jdrxgAAAJmFJWNZj61Jo1byzVmF1tMsdqZPCjk0ragK+ybYqqddU0E9zXYxyI6FbEdD5CffmiF/mq4ivzRZe5zI75sJRV5/aLpRFcxKsurbbDhOSss/DKhZplNKesiCsErfw2EWlG1ZMk4+hJd+N4W1ceLi1epMa8aVTW683cHq4RddquNy8o1w3z50NknGAAAAxoKSsQTUgjQ6ioUnY/XMVzm11+s7XuDnFWQpuG8SsST1vuyoUP9JF4PlS+T0Jou+iqtpp6nIS+o7jue5+YRVGylTATnIRrf6ToOzRWYZqJSuz2dja6HXGwvSmpWMlYvezuDBswtJyX8d/P5wb2Vzb+XR0Xq+z3hCMq5scnPz/mVjY/D74zdqtvHJ0YpUGK1sHbW7JGMAAABj8Z/A+8+qDPjzkQ/vzd3Fty/R1VfzfEbTm3yNLpMlZAAAABgk40ki33HcIIyiKAzcis8WziGOAvl6urGlagAAAPwkSMZTSKKt/aUec4ijMJz71/oBAADgf4dkDAAAAAiSMQAAACBIxgAAAIAgGQMAAACCZAwAAAAIkjEAAAAgSMYAAACAIBkDAAAAgmQMAAAACJIxAAAAIEjGAAAAgCAZAwAAAIJkjEUI+o1+YP4LAABwN93lZJymsbYbmZJ/m5rR3JO5TZt/X+S2i9NWBXL8C2TjeV8wc2dsFUVVZh5JXg1+JAEA4PstOhnHUeAHUWyOfjSdimtjxoz5YwJJHKlkSbRCHkn0gIHVpqwqvdTHn8r5z57L7MlX+K4kJX3Pfm/nzZILIBP8QVlxtquJfMcNzL8D+XtTaFL5yo6b+b4t9GrjeOyfr/pXHYSVExk/E7rqws1zAADumgUm48jrtpqr661Wa3212ep6k97SJStMlL3PT6hZlRrsjDBD/pDqttmCiEyqIogUxzN1ypOYeuWa6V0ql6akimac5Oz0nObptfYiKu7K1CnXdmZU9jmN/fdgovLfAFt1B7O8ArHbWXPs1qpRP6gZK+1t2o3QKuc089VOEbrqn3Dxr0Lkba839L/qteZqx77uujPRsNUaTrk/AAD8pBaWjNX7YTN/ewydVrPnm4PJZgkas7Mzgno+oeckpkgFq54OJ1mjYlTRySY5p3OO+tMerXwhps6kSaTdTKLrJHOtUNv1/NRAYuqEkpoVA6viyunUlc+icIOr6NtjntumNpxiQvsZridw1tJwWDlB6y+F9bTuWnJpDfXndHNevprI6mrbcR37/wbIbWinMTdyO80s89afkVPFHwsAALgzFpeMZReFea7MEB+M2WvOQt6w00igntf1LNXq6tldlKQ1TUIpNJS0kp6sVu50wkD1Fnu7xsicJk8qu86Suqv5rglPbawqVM72Vvc2N2lcuQGJugFUMM6jYdUdVWVp99ZTTVevVH85yYxmulxdtbJm6OlpyPjZhOTHXfsH3PzC6s8ocnKm2QAA8LP5QZ/AC/rr6zMuG00KIfOTN/b0TbkcOjJ2JUXNoPg+nk3JiilZgTxJWtj9JzX1oenO/JFWGhuk0Lsl7VKfLTex5jaNqjjZbN2USK/JXupSc5nu+GznmG+VUqfVNyxVGL1uOgl1dtKk5CLrG+dXZG5xuWrkdhpd+3+YjA1nFUyaiuq/fhoZMwtl1sqT6smNSycUe9uNwgaKm6CXnKw/kxz0G2yoAADcSQtOxrLXuNVaW2v1/Vk/hafeRWujgbxNT2c3l3f+9I2/LnSURqyopmpMTBlj56XANf2Yk+aPtPeKLquL7Lmow3KVUo1bkhtbHrtOXlemowePIv3TgXXv6zq0pyt15pr7lFnKaaWyxoSmutmEbituekH5FUimYRWpCpW7CZI7Vs0aUFUzR/mzeno28pNKP9BP57i9leRq0l7Gb6IaQkfe+jPa+GkAAO6GRa8ZR4Hv+96w21pt1a8ZJ1liipo3+Slv//ZpNUxV1VJx1bu46kUXWROd8KUT/f/TPab9msbmj1KpxZ5qqqpMl9aqqD6dXNeMDbOq8qR8n8wNavf7Nf2Vr0euZKyTOpMrJ2fVfyurVM5W0ROecOnZ5dYrX1PCmmxFheJ0krtWc2lWVenTNjZsOmjaZobZT2N3YU3FSC+t/ow2fhoAgLvhB+2mkA/nz/geXZEjJplcvfCWrA6KVZMC1YP1rl31Jj71jb3YhZEOZ06aP0qlOVUwfiHjHdvVps5rRjP3IxWn11RTrK4lzUvXOFuPoqJxLjs5fsMSUqF8Qo89aXC5EJ3y6wdW7Fek0niF4mySOU+Yedq6rkpCnU1PW/3L08nTm6zQ3u+W+lIFySaK+jOieL0AANwdi0rGkec4he9pU+/bs31AXVWc453cigMVimetjCHkpBwXiqtGz9/XpYlRqKXKxyeR9mtOmj9Kpal8DNt4qd1MPU9nYT2dmwwyQ2OpNkOI1dWqu6u/xqnDT+g1OZf2W7qtmdLYus3EYQsjql7rL33qvY+GrWLjwmSyGZemaEipNY2aSejZ5ueKXemTk6dYzx5fH3TcfF+U32umn8CrPSMCZ42P4AEA7qSFrRmrt8ZmZxgm75VxOOw0Z/wI3tSgkZvyli95xj6rqqeHhZZykLxvS4vyO7jdSxpNrJ60tLwgrWROmj9KpQl1UNFB5TjZcT5rra6LKaTZhFuYkKFmTsW11UoTzsmJCVPQU6zpdWz6qqB2DH0i6W3yxejrKM2oqiyhepxyAwufRis0KN6T4pEmdWXVOp171bTHJ1DdUVVjKa7sNCVdWb373eZ6L/mRNw7669YXM9af0Z/P2/Zm/aABAAA/kQXupojcbms1iSGN1baT/gKwaWrewkt0UJmU6XSFYj+qSNXXWaB0yvRWbpBUtcYwbUVhZFU+PuVkuEKjItNEzldfh5yx+pVZZofqXLFRxQVPkl5y9ciJbOaTKmmm5pTOiqez3hNjU89elJpe5fzYKdVp5T3IOpt2LXpWNXX0ubHuxy5snN+1kmE2Remu3LJ4UVJD182mX3lxY6T6bDWrL8kydpcDp7PW1HORf9SmUKs9o3dWEIwBAHfR4vcZF3+5rH4nLhp7X66oY785JylhchipjAZpvJieGepqqplVNq4sV53oSVY3MqVVE01HV+xTWT/qSQU1lpzQH0Iry7qxztXfwHz88syqJF1OrFk7YXM+GTI7zqrPMnyJanuLVgl93VNay9xKVVRR/b00gv6ayYZqEF27vpVMQ4ZI/8xlN8ZS2cl400Ub/43RqfEzfm91xt/yAwDAz+ZHfQIP+JVFbqfthObgl6JSOt9lDAC4s0jGAAAAgCAZAwAAAIJkDAAAAAiSMQAAACBIxgAAAIAgGQMAAACCZAwAAAAIkjEAAAAgSMYAAACAIBkDAAAAgmQMAAAACJIxAAAAIEjGAAAAgCAZAwAAAGLpUxTx4MGDBw8ePHjw4MGDNWMAAABAkIwBAAAAQTIGAAAABMkYAAAAECRjAAAAQJCMAQAAAEEyBgAAAATJGAAAABAkYwAAAECQjAEAAABBMgYAAAAEyRgAAAAQJGMAAABAkIwBAAAAQTIGAAAAxL+VjP+JLz9H8bU5mtul+/SFc/rVHM0sfv9q+2kQmaNFiK8idSHmcRWbUq1wSj+u6idcrlzs6tuX8P2p+/5T/M0UAACAX1EcBX4QFVJCUTzOnNFMUcqUFtQUa3VNps3q7vi3knHQ3hg0nn0yR/O6ePVgY3DvyZk5nJm3O1jaeO5cmsPvFz7bX9pQfWaP0drooubUYGnnJEzOjRmrvN/7aE7F71828/JR5/UXcwIAAPxCIq/bajYSzVbPrwqikds2NSz9wJy98bumKJWfEnHobq+PF2t15yIvKdZWO+4i1x//DXczGStXxVXVWX2Nrv4xTxdBJ9pDxyz0ng93R8sbe523shZePKUf9WvG3p97S1sv/bxyenXxaXtzsLxzEny7ufn2yXm8p/oc/id+JgMAALOLhq1Go+2EEgLioK/SaLsyheql4FTgtBrNbS8NDpKbW05gTgpzQoROq9lsdftdNU45GdeeC5z1RrMz1LNSIbm33lh3xlP1XbK4ZPztk/vsxdqjUaN73HttVmWjk5edXT+7Q8HhcefpqX4Zk2R8rkpWt/ZXey+HH01gTZr4F0H38YHqqv/+i947cdjcPFjLN0KcO7vH3ZPP+vl1dPqm23vekApvgitdpkyfz3X09tX244OVreedZ6dhulEhmWTwXp96dNj1Jq0w6/h75JojJVjfGKw8laXhsVMTXLu9wVKv4m9S/PfzpY1R99Qc3ly8am4MVkfJhRddnvWfqLu0v7p74qY38+bmn/DkJLtGfff+8UfHnSfv8tXrU7+z+2KYLlEDAICfT+CsNdas0Bn0m43WcMoCbdBfKyTVoN9o1K7qBsO+r07pVedyMq47V56VVGj2fHN0Jy0qGX/q7wyWNw+2R+/6Tw7upemtlA4l/5kdBZKM/9gc3X902NlVeU7vHzjLllr37u0crKflzZ1Rs3fcebz/28bg3p8fpLW15By/PlLDNXonzuHJ+tZgafPYkwpT53MdPNtfVg0fHycTWN58oRvqST7cW9lSEzhe21ET2Guf1K71LigZf+rtDP7Y9YdP1WRULn+XxXRZS36YXFHioqeucTxDn5082Bj8tqNuZjLn9Gb+pa5x1HziD0cv5BofyV/r+O9DVZil7bEhAADAT0Zn0sL7v2yMmLx3QcfUfMFYkTY9N3AdMfQqNwZXJmNjPBmX8nnsbdetZd8VC0rGei1z3UuWKq+jt+88vWw5ORkvPXqV3roPnYeDZf2C6yYH/WSzru42CZpmYdVqniRj2Tq89dK8SFfn7sm59Dl1PvE7FWHvm55N/aZOzzLKxvOhWXs+21bpvGo1N6E7nLCbYnBvc7SSPrZfZ03UEMkjuTly+SqCP1Axvff8virfPEr+IluXnJAMPTafr8PH1k24CXuPRvefqB8hLvuPBkuP35nii7Ph22T7ity9+0/P9XMZ+g/z8wYAAPgpjedVWf+dmEHLC8amk+Zap6tycbe92misVyTguZLxjd9rSi8mYutNHrWt74ZFrhkvbeyvPTlx3p5nX6GQJ1GtMtomdMA9UXey2KRQrbJ5smYs2x5Gp/5Ftrg7bT6vj+x105ubz46EyDfqlS2G0cokmivGXPUofQJvtLqrl4H1w9HDxWenQ+9d+gjTv9L/xNk3dZydNNKrmy0Zn+q7Yca16TXjQePxi97hhyDfYH2dbGuWXt4e/1G4DwAA4OczdzKWBsUF4zF+t2pDxnzJ+Cb2eyoNN9dardZac707dNqsGRuyr/d4dWvvdx0Q2yfyFQqTk7G9XzZ4Okr+n/68yViWhE/fdB8frMiy6+C3R6/MCzZ5PidHsuUg31ybLEi/Up3Pn4zNmrG7u2ctNpevfR75oGNbHcLu5mB5t5RkC3epSPYZd7r7yc1Z2U1/qEsDcR6RAQDATytyO41G19rAq/ct1CdfWTCeug1ZNleMdTFnMhZxGPi+H8jH8ILepFndBQtMxl/T+3AhwU6HyyQ4punwi9MtRFvrf+J/lv/vr3fB3iIZx7FZDY29wz82Bu0TfVA7H935R1mXXf87W2PONxXMn4zT2V74q/lO6HmS8eVpd/fYeZ+uGds7HE5kbXs7O3X68v7GYC2fdkImufz4XXq9X8PX74bvk586sqVo2Vdt/TAgCbvxzFcD1URqAADw85CvprA/21a94GvoBWM7RydC13GG6SKZ6XIs586VjONg6DheGpqSQN5x73IwXlQy1ontwTP9pR2Xp52twXL3jbxar49VVL332Pc/nrtPDmT51oq2yxv7nZNP0eUn79nzmg/tTU3Geovt5tHwUoXjr+FfB8sbe9vva+djda63T2weOmdf4qtP3lP5pFr3VELk7ZOxSp9PR1n6nCMZJ6PIZGSzstMbWTs9wq6a/NbRUJ06e9fOP2J4E46er6hyvYciGsmFrx+eR5efg8PD9GaeS9udk0CF42+f3T/V3PLvctZTVS9BuqUbAAD8xGJvu9lY33aDKI4C+WrhbK9E5G632n3r641l829Vara6iCO/31IH41+xNt+asS5Z77mhzGqoZlW1dflOWdSa8XWggprZazv4beeFZzYVfPGeyHdKqML7u4FTjLbtw6At3z4hj8aTD8krOmcyvrm5+rCtYqUZOtvmWz2fQudXZ91He8umzv72azPj70jG6u+cfLBvWe9XnicZS3zf3jGTWX6YT0ZcvJFAnJzafO7oL51Q/Cd7ksJNgP7iP9U/eOhHdjNvzvy19A7ra7R+S4heNbc+BAkAAH5qgSMfmxPNtc4wjSo3oXyncL65Vy8Fjy8YJ0I3+20hq20nXz/OzZeMZdk4m9Vqq+vd+VixuN0U4ha/8/k6vvq8gF96LL9defyXw80wH9Vwwi9tziQ5svgw2zYWaMJkrib+cmnja3RZdTNnagsAAO6A4u/nuJ0FdFGy+B7/JYtNxv9hEjpLjwUEegAAAPw0SMYAAACAIBkDAAAAgmQMAAAACJIxAAAAIEjGAAAAgCAZAwAAAIJkDAAAAAiSMQAAACBIxgAAAIBYYDKOAm/oOM7Q9e3fmV1dOpPId3pu9lvB75Y4dN1wzl+U+GF787lzYQ5uLt60tw66b/8xhwtwHV9d/Vd+dyMAAMDiLSwZh27fDXT4jYKh45kYXF06sziaO8lFXnfuYX6AOBgOgzknH7Q39nsf9dOroL251z75og8W5VNvJ+0fAAAAYxaVjCPfyReFQ9dJUmF1aS4OgyhW//F9X+dn8zRdbI1DP3lq18tWYrOz+XP1h+t0Hdd0JyciaWS1UqrKMskopZP50DITU5jXrcjvJhnrkdK+1OzyGcvPCvaRkiXji97OXvOvbPVYFZz1nx53dl/0Tj4lBdHJS+f9lT960dl9Ofz4z83lWf/JcefJK//yOqlwc3U+fKbOHncPz/WEP7tPDx883HvQO+4cnusaXwLvZHv3uPP0TZC1AgAA+IX9iH3Gkd+v2ARRVRp5fWfoh5HKqm7fcYaeCplR4PX7SZ7O1n9Vvb4+GUf+sGcWY+3V4fR5FPrDrupRdamOVDx1XN0q9Jx0xVoFdClTOVUNXorqMk560jGTkInrQpnZUE3StImkSzWOzD0rzKih1aUlU84GjwMnG1HmVmqkk/GZisWDB8+sWPzx1YONUfswDD9+6D3aWx19VmXhs/17O0fdk/PAO7r/cNTovnDPzt0/95cfvdIDnbY391afngaX58Pe6N6fH25uvoavX61vjtZH74bvVQ9fvd29e92X7tln6WHz2NNDAQAA/MoWn4xVYqzYR1BXmoVb9TQNztlOBCsZWyE4TdiFwuy5Vaqib75iHfmObhZ5s+1dziYRur1sGBk8KbVDrozU84qdqubZ9ejaulkeh4vtEyoZjx7s7C1tHPStYCz7g+N0t7F3uNQL1J8qGTdMev7U2xl1T/VT6eHITZ7GX5M/b85OGjsneibF3RTfvqbDX/S22GUBAACw6GSsF1KzHJmqLlWsGGs9nZyMx88WnufPVMVe38n0zVpzHLqOKh+62Y4LWxT4rnxi0Omb+tlwWuXg5UqiVJJVN9FYR2V9xqJy7eBeLwhPjlZ2TqyzX4LDl+vd/ZXNvZWHAysZJzsr7LybJePr6PXJ9uMD3WRvuTIZX5z2nhw2N0eqzu/Z/mYAAIBf2CKTsUqDTmnpVKkuTVj50no6Hj/tHDp+tvA8f1YKpyV6k0NppVdWhH2zaThtLdPPe6kcvGooVWItWMsnEc2R7q4yGCe7KSShfnF7e/d2T5MOo8Pn9x77wZVeAz45mikZv39xb+eF91F/gO9j5Zrx2fbm/vbbT/G3UjkAAMCva2HJWJZix4NodWnGypfW0/H4aedQ62y641j2TaQVrN0SsmMhS6eRn3xJhvxp5hP5pbkV5uCma8wq46ZfwCZh2jQJ89FVu7Edy6pVt29dUB6TVUgeDpOdHSVZMlbkQ3jJd1NYGyf+8f7cmykZpwH65uY6HB1ka8b9ndH2++TDdqrmodl3cfFqlTVjAACAhSVjCYIFOhRWl1q+Kxkn+yKU/jAIrI6CoSpKkqfU6MuOCvWfNN1G/lAXqbIs2qYkwiYbMIaely8DR4HeYTF0g9C3Sk1HVt85maUfeLovNZC1fCyZurwrOWEnY9kf/EAdnl0n3+B2T7Y9jNq957PtprjoP9r7Xe+UaO4epmvGN9Hfhysbe/effFCJOfjr4PeHe7Ld4tHROvuMAQAAfsQn8P7T8lh+e/JxPSsoz+Q6vvqsdz7M4+pzFE/8OrZvX6JkkwYAAABIxjMI3b7jBZES+MPxdeZ5xFEgX0/3vdkaAAAAPwDJeBbpr/SQrzr+HnFkvmkZAAAAPx2SMQAAACBIxgAAAIAgGQMAAACCZAwAAAAIkjEAAAAgSMYAAACAIBkDAAAAgmQMAAAACJIxAAAAIEjGAAAAgCAZAwAAAIJkDAAAAAiSMRYh6Df6gfkvAADA3XSXk3GaxtpuZEr+bWpGc0/mNm3+fZHbLk5bFcjxL5CN533BzJ2xVRRVmXkkeTX4kQQAgO+36GQcR4EfRLE5+tF0Kq6NGTPmjwkkcaSSJdEKeSTRAwZWm7Kq9FIffyrnP3susydf4buSlPQ9+72dN0sugEzwB2XF2a4m8h03MP8O5O9NoUnlKztu5vu2sKuNC0xhSv3bDkJ7OnEwdPxZ5gcAwF2xwGQced1Wc3W91WqtrzZbXW/SW6ZkhYmy9/kJNatSg50RZsgfUt02WxCRSVUEkeJ4pk55ElOvXDO9S+XSlFTRjJOcnZ7TPL3WXkTFXZk65drOjMo+p7H/HkxU/htgq+5gllcgdjtrjt1aNeoHNWOlvU27EVrlnGa+2sn8rhnEyLuMvO31hv63vdZc7eRX7/dWe755DgDAf8DCknE0bDXzt8zQaTVnfMucJWjMzs4I6vmEnpOYIhWsejqcZI2KUUUnm+SczjnqT3u08oWYOpMmkXYzia6TzLVCbdfzUwOJqRNKalYMrIorp1NXPovCDa6ib495bpvacIoJ7We4nsBZaw2TKpUTtP5SWE/rriWX1lB/Tjf35ddes5xom+tRB51menEyE/Wv/n/1v4gAAPjhFpeMZReFea7MEB+M2WvOwn53t0JHmVSrq2d3UZLWNAml0FDSSnqyWrnTCQPVW+ztGiNzmjyp7DpL6q7muyY8tbGqUDnbW93b3KRx5QYk6gZQwThfMa66o6os7d56qunqleovJ5nRTJerq9bUrLto+aHX/jG3cHl+9zteXgAAfjY/6BN4QX99vfB/k+tNCiHzsxNROXRk7EqKmkExK2RTsmJKViBPkhZ2/0lNfWi6M3+klcYGKfRuSbvUZ8tNrLlNoypONls3JdJrspe61FymOz7bOeZbpdRp9Q1LFUavm05CnZ00KbnI+sb5FZlbXK4auZ1G1/4fJmPDWQWTpqL6r59GxsxCmbVydb3Y225sq5fWEW7+Y66UWxsolKCXv6ZyowsXCwDAXbbgZCx7jVuttbVW35/1f7HmQWOcvO1OZzeXd/70jb8udJRGrKimakxMGWPnpcA1/ZiT5o+094ouq4vsuajDcpVSjVuSG1seu05eV6ajB48i/dOBde/rOrSnK3XmmvuUWcpppbLGhKa62YRuK256QfkVSKZhFakKxU3GRnLHqlkDqmrmKH9WT89GflLpB/rpHLe3RAX61dV213E9z+23VxvrZuzxW6kGsvdTfNeoAAD8VBa9ZhwFvu97w25rtVW/ZmwizWQ1b7dT3ojt02qYqqql4vE3ft2LLrImOuFLJ/r/p3tM+zWNzR+lUos91VRVmS6tVVF9OrmuGRtmVeVJ+T6ZG9Tu92v6K1+PXMlYJ3UmV07Oqv9WVqmcraInPOHSs8utV76mhDXZigrF6SR3rebSrKrSp21s2HTQtM0Ms59V7G2b7cTFuYvCBVZcLQAAd9YP2k0hH86f8Q1zznfWydUL7+LqoFg1KVA9WG/04+/71WUFxS6MdDhz0vxRKs2pgvELGe/YrjZ1XjOauR+pOL2mmmJ1LWleusbZehQVjXPZyfEblpAK5RN67EmDy4XolF8/sGK/IpXGKxRnk8x5wszT1nVVEupsetrqX55Ont6MpKNtT/7Pz9hWYlWQb68Yv1oAAO6uRSXjyHOcwve0qTfMyv+lPGa+d1YrDlQonrUyhpCTclworho9zxnSxCjUUuXjk0j7NSfNH6XSVD6GbbzUbqaep7Owns5NBpmhsVSbIcTqatXd1V/j1OEn9JqcS/st3dZMaWzdZuKwhRFVr/WXPvXeR8NWsXFhMtmMS1M0pNSaRs0k9Gzzc8Wu9MnJU6wSus4w/QZmJb8K6c/+Agq/18z/aY/vQgYA4A5b2JqxertsdoZh8v4Zh8NOc8aP4E0NGrkpb/mSZ+yzqnp6WGgpB8l7vrQoZw+7lzSaWD1paXlBWsmcNH+UShPqoKKDynGy43zWWl0XU0izCbcwIUPNnIprq5UmnJMTE6agp1jT69j0VUHtGPpE0tvki9HXUZpRVVlC9TjlBtqfUFOsBsV7UjzSpK6sWqdzr5r2+ASqO6pqLMWVnSadrKefD5DvZks3GssicXO9l/zgGwf9devrGYtfVAEAwF23wN0UkdttrSYxpLHadqzlp4lq3sJLdFCZlOl0hWI/qkjV11mgdMr0Vm6QVLXGMG1FYWRVPj7lZLhCoyLTRM5XX4ecsfqVWWaH6lyxUcUFT5JecvXIiWzmkypppuaUzoqns94TY1PPXpSaXuX82CnVaeU9yDqbdi16VjV19Lmx7scubJzfNRsRRDZF6a7csnhRUkPXzaZfeXFjpPpsNasvyYgDp23+Ba+WflVP4HTWmskZ9U/bFCrRsEUwBgD8hyx+n3Hxt8rqd+Kisfflijp2gkhSwuQwUhkN0ngxPTPU1VQzq2xcWa460ZOsbmRKqyaajq7Yp7J+1JMKaiw5oT+EVpZ1Y52rv4H5+OWZVUm6nFizdsLmfDJkdpxVn2X4EtX2Fq0S+rqntJa5laqoovp7aQT9NbP/QA2ia9e3kmnIEOmfuezGWCo7GW/6PcZ+LXRm7IwKxvm3VAAAcPf9qE/gAb+yyO20ndAc/GcFvXW+yxgA8J9CMgYAAAAEyRgAAAAQJGMAAABAkIwBAAAAQTIGAAAABMkYAAAAECRjAAAAQJCMAQAAAEEyBgAAAATJGAAAABAkYwAAAECQjAEAAABBMgYAAAAEyRgAAAAQS5+iiAcPHjx48ODBgwcPHqwZAwAAAIJkDAAAAAiSMQAAACBIxgAAAIAgGQMAAACCZAwAAAAIkjEAAAAgSMYAAACAIBkDAAAAgmQMAAAACJIxAAAAIEjGAAAAgCAZAwAAAIJkDAAAAAiS8Xc4e7P9p+9/M0cF38L+n8e9t1/NIQAAAH56/1Yy/ie+/BzF1+Zobpfu0xfO6dy5M37/avtpEJmj7/TZeTT4488P5kjoi7r6JzmIRgdLm8decgAAAPD94ijwgyg2RxXiceZMpqYPUztjijVTlDHFmilKmdK76t9KxkF7Y9B49skczevi1YONwb0nZ+ZwZt7uYGnjuXNpDr/L6+M/NkbdU3N0c3nW6+4tbQyWeoEpid+sbQzW/2bZGAAAfL/I67aajUSz1fOrMmjktk0NSz+NJiqc+D2rj66XrxZGw5YpN9pudnLSOb9rylLWaHfR3UzGytXVrX4o+Zqt6X4n78+9pc2X5sU/fXl/Y7DSPVrbtJKxXlReeuQvaIkaAAD8unQ6bTuhxJ846K8X4qnFrNwmAqfVaG57aWSS3NzsDJM+wmGn2WgN0z6CfqOx7UamoTAnlAnnpMuWE5hiYU7cVYtLxt8+uc9erD0aNbrHvddmVTY6ednZ9bOoGBwed56e6pcgScbnqmR1a3+193L4Md2EoJv4F0H38YHqqv/+i947cdjcPFjLN0KcO7vH3ZPP+vl1dPqm23vekApvgitdpkyfz3X09tX244OVreedZ6dhul04mWTwXp96dNj1KleYL3pbVgh+/bLtqZT/qbdjJ+Ob4OloaeOoekPFt0/Dp4erW6Pm45fOaTbpimuJPDXnV9lf6pvL0+7ucf/tYvI9AAC4CwJnrbHmWBmjb8faGkF/rbGeN5I+7DZx6PtptNKhuWa5d9I5Cc2dyoh+Ry0qGX/q7wyWNw+2R+/6Tw7ubQxWRxJbw2f7Khq6SZWbG7c3WNo5CeWpJOM/Nkf3Hx12dlXqHSxt7PfOZNuxbrJ3b+dgPS1v7oyavePO4/3fNgb3zL7efMk5fn2khmv0TpzDk3WVVs3W3qnzuQ6e7S+rho+Pkwksb75IIqxM8uHeypaawPGaSrobe+2T8R0RyQQuzJFRTsay1Vhd10dzmLsK2jKiDLH+aLQsQ6gfAGquRS9IZ7sydJ8H/dLIAADgP0zvkrAiRrKLYXIk1YE2XzBOlndVMI78oSPcwFrflSXptuN76Sm740nnZBo9N3D1qaE3aQf03bCgZHzxqqnSm5csZF5Hb995eg14cjJeevQqvbcfOg8Hy/oF103S5Ke7XXmqW9xcl5onyVi2Dm+luxquzt2Tc+lz6nzid+sbg/umZ1O/qdOzjLLxfGiWcc+2CxskMvkELOVkfHNyVJmM9VpyNsSXYW+08lg2XVRfi+52+fE7/XeNHRoAAPx6dDIuLNvKYm31fgqjtGCctGh1Ouur7a7j9DqtZqOZR2s52VhtbffGT006p+fVXOuoHp1ue7XRWL/j24wXumasUuDakxPn7Xmc7kyYnIztZKlD4Ym6mcUmhWqVzZN1Vtn2MDr1L7LF3WnzeX20bH9+Lkmcj9+o9GmNooyFXeN7krGeW0WfddeSrBMfDtXkLv1VPtUHAMCvZu5kXF4wVnTAbXZ9c5jsXM4PbRNOTTznd2fY4/FzW+w+4+PVrb3fN1QkHSXbAyYn42SHQ0KWUR/K5oF5k7HZm/v4YOWhGnfw26NX5q/N5PmUM2uyIP1KdT5bMj5VEyh+ZZtSrqyHey6JtqCuT6XmWtJAnEdkAADw64jcTjGOxt52o1FMvjZZMC5HVB1p7fwhBTU5Vk7Z25ptk87J5or6Wd0FC0zGX9P7cCHJT4dLHQ0P05j7xekWoq2VLD/3000Ct0jGcWw+jhZ7h39sDNon+qB2PrrzjyeNwuKrbOdI5jNbMq7c1VCuLAvh2fdX5HQKz3ZNqL9h798NX1/o2dZcy83X4ePBcs9XdynZcwIAAH4lEkebvTwaT1yd1QvG48u6fq/Z6Lh5bLW2Kke+4zjWd7glVZPjSedC13GG+X5lPcu7vZ9iQclYf0rswTP9NSCXp52twXL3jdwy+dLfwb3Hvv/x3H1yIMu3VrRd3tjvnHyKLj95z55XfUhOmZqMJTIubR4NL1Wg/Br+dbC8sbf9vnY+Vuc62m4eOmdf4qtP3tN9vblCPgI4WzK2djjkSpXD7qaV/mM1jVHzme747bG63gdPP4SXn8O3L+W7maVazbVo8d+Hy3LH9jqvb/3rUQAAwF0Ve9vNxvq2G0RxFLjb6/leicjdbrX71tcbS3StTM2Bo5q1+n4Ul/uYdGrSOWtWceT3W+qgZjX5rljUmvF1MHq+IvsW9DaAnRde+vEy74l8p4QqvL8bOMVo2z6Ur2hImjSefEju8dxrxlcftlUeNUOP1kbJZ/eq51Po/Oqs+2hPxU1dZ3/7tZnxjMn45mr8F3kUK5++XCn8KpA3q2omveTnquvo7yOV3ZPprXTTL5KrvpaEXHKy4QQAAPyCAkc+4yaaa51hGlVuQgmu+ZZjvW5bsw/4Jrb6aHXdrA9lwqmJ50I3+wUkq23H/r6LO2lxuynELX7n83V89Tn7hNztxVfRpewkLpphPqrh1e0+0HYte6PzDF3yZfh4cG/3dOLfj5rpVV8LAACA/CoP8+z2JnQxqffbnrtLFpuMfzVfo8u6X8WnTi0i8QMAAOB/hWQMAAAACJIxAAAAIEjGAAAAgCAZAwAAAIJkDAAAAAiSMQAAACBIxgAAAIAgGQMAAACCZAwAAACIBSbjKPCGjuMMXT/9zd1aHLhDp1g0JvKn1fh33GJe4ej5ypMP5uDmi//0+f3HbxZ5bd++RFf/mOcAAABYnIUl49Dtu4FOgFEwdLwkC0b+sD/0vWHXHNeJvGk1/h23mFf4bH+pF+in18Gz/d92TpKDhTk5SvsHAADAIi0qGRdWV0PXCWL1ZxTqrFybL6PAV1SdQo0oMMXSxU0c+n6on2mqSXIUm8bWOUuxDyMbTj3Lmk3sJ5lX2i4Zt2Y+qSwZxydHK5tH7lVSrHwJvJPt3ePO0zfB5bUuOXeenoYf33V3j7dHZ9HNP6H3srN73PU+6bPKdfTWV2c7T07cj3qd+NTvdEdLW887uy/dy6oKAAAAuK0fsc848vtuaJ6L6mQcuj3HC6M4jnzX6ZsacTBMSwM36SUOnCRnJ6eT5yp7uxJV49DrZ2eNij4Ue7ih08+G0/3EUeg56UK3Rc1cdoeYvpyhjFQ5n1ySjFUsvleIxV+93b173Zfu2efAO7q/eexJYdB+OGruvvHPPvQe7d3fOlgfhcF7f31zr/NaonP41/5vW0fO+0/h25PVzQPn4ubmMhw+OVh69GLonapAXlEBAAAAt7X4ZBx5SYLMVSVjlS+tWkHVfou0WR4/s1Aaeb1C9q6V91E1XOj1vKwbO/GmJBnbS+E9aVYxH4sk4539BxuDP/7Mdhtr376mNS96W/u9j+pJ0N44dJOyk6Olx2+SCqqHxrNk2fhr/E3/eXPt9gbtE/20sJuiqgIAAABuZcHJWMXi8aXXqmRcLLOO4jDwXPkkn9PvpYUmiup4qwtULdfp9WU9N9nbXDTeR+VwKuLaGb5imsWirP74fHKSjDf2e6fnvZ1R++SLKVUuTntPDpubo5XNvd9VBZOMj/JknObdPBlfnTtPD1e3kiZVybiyAgAAAG5lkclYFlPzNdhcReSsjqqyLNt30327VhUdRSuCqN4FYa37alV9FBeZTelYMtZLwjZV0WqmJmCO6uajJLsp5NnZyYON/b4kYDnY3tzffvtJL/F+6u3Mkow/O929tcPzKJadFVVrxjUVAAAAcCsLS8ayimvnTIsVcXOh18uqh65Z2rWzauSnm48VlXaHwzSXyjk3r1YatrqPyOsPzb4IVSEbLt1wnJSOxXo1827emeoiTcKl+VjyZKz69A7vme+msDZOXLxanWnNWAfoM1307UNnMw2+r4+Wu8m+i5oKAAAAuJUFJWOVK7sFWaZVKpOxxFan35cdD0M/DIamRuQlhY7jea7VTAVpO7jK18Hpan2VVu1cLGr6UG2kTAXkIJuQ5PlkEllwtsnMgyDZl9FXQTgfqTSfnJ2Mb26+uL29ez01w+vgr4PfH+6tbO6tPDpaz/cZT9pNId9uIU1GK1tH7W4WfMPuzuC3h4fOZV0FAAAA3MbiP4H3Y8iH5caT6y3VRPV53Go+8ks6vprns/oaXVqblStMrQAAAICZ3IFkHEdB4I59N9ucIt9x3CCMoigM3KovaJvdQuYDAACAn82dSMZhWPiNHbckibb+l3rMblHzAQAAwE/lruymAAAAAH4skjEAAAAgSMYAAACAIBkDAAAAgmQMAAAACJIxAAAAIEjGAAAAgCAZAwAAAIJkDAAAAAiSMQAAACBIxgAAAIAgGQMAAACCZAwAAACIfzcZB/1G243MwQJEbrvRD8yBUAWLGmDRcx2XTFb9t3AJ/zJ12fZ0FnhDF+ZnnBMAALiLFp2MozAIotgcTFNKXdWs3KPql5VzcKPvqv/UGR9t9lT145NxekOs2yJXXHWLFjQZfcNqXoGgr0cwk0nvkzW3eclg4yZcxqyvjak3d/8AAABFC0zGQb/VXF1vtVrrq81W15saSKqTjJHHLysflWNZ6Vg6LMW2qQnS6n2KyV2ps5MlbadUGxtA6lcl0anXVW3qLEU6XhKNVRNVoG6TLp4ybrn/8tTt5hWvVkkytJC6RsXw9mtY7DXvQdRNvq4cAAD8ahaWjP1ecz1LIZJPtr2JS8e1wcg6oSJLRrKLfWzUBx/pp6Ay/aha9alorIsxC0xUMthYd3LFVXdpAWEuv8+qs7ExKm61GjEo3ZDi3TcFeXfJ/StWyqatxx9b4LcnknSkO8mKS3epME0pz69KUQfj/VWx5wUAAH5di0rGcTB0rGXiQkCpUA4w2YE8L4YUVTJLapGGWX42GclqV9eLXZ7GrMqJS/+lE4vNUzLAWHcyparpfMfQ0qVqa12PKlHPqrqUStYdsdqop1Zt02d2YE/Z7lfq2aSe2bVhThdbtl13bFbWJAx7LnI2PSjOsXxYMN4pAAD4Bf2YT+DFbmfSmnEph+SHVQElDzTlXKXl59rtJBSZKCZ9FVTHIqvT6gqG6dVWUfQdZL5j3cnsqhLbrYZO7oh0J93m7dWRHkOfz0Yz89Enk2no86ZZ2sY8tyajahWnJs1MXbtmWpz3VG6pkrFS6EtUDVDo1ZpjIjkea1dgXxAAAPhF/YhkHLmd5roze8zQCaY2luisoyuMh5c07CRn1H/lyPxRDEKVsUgPnGe1SWQW44PnmUtPcYrJySvvziIzrGpmrtGYPr5VWbrMDtOW6RjpJPL+1TNzUp655jaqemkf0sSeYt4glVfOu7XaZQ3KLdVxuSthjZ3QBbLRQ1WWEdRPSHmzvPZYu6Ly6AAA4Nez+GQc9NebnQkJZIwklkKYSakTOrZZIW2cFXYkFakj80fWOlWMRdJZsWQS6aw8waqyjJnEHKS7sSYyy6ox5u++rHK4MjVMeXRdpBpnbUt1KmaW11YnC5KGpodSR5VdCXtwRS5E6LLknNXQqlxqN2ZsfAAA8KtZcDKO3M5qZxiao5kkMUbyTXUuyQPNeHQphh0TiMwfxXOlWGTqzKpydpWFhpybZwBlniZq+t+V4mSsCnmX1RX0eRnbqqpqTruxeZl9VoYwvUhxvz92N1WNUolmjainmS1kW6fMQNYYiiqsOdCsfgEAwK9pkclY76KoyjITWFnJemrLA8u0MGM6MH9IKioo1pxjntKT1ThVM19NnZtnBFEzSoXZa1bJ7os9v6prURWzMvuGybVZle1T0vfYZVt928MU6kqfYw2r2dNKZCV2l9Jj6SKtqY53Ul0GAAB+KQtLxnHQX1/r+bP+kg+tnIck2UwILCbsFFn11Xk5Mn9Mkkek6WTUqv6kvLoTuYypUxhTefHjbtd5yro3aUd1HVrXV2pV+saI7GzVFejedTf6WUnef2l3cC1rVhnVsx42/dOUyQCl6ZgacnKGsQAAwK9mUclYEktJOSQV6PpVNfQJO7bYeUdHKHOgs08h36izcrJiKqlCR7MGsapZ6tErTpixK5uICXMTte1E2nZBma4wlZqBS0PKoakpT7OJpNWKvegXqH66aTzNOy30OcYMUjFT8zdEVUha64F1vfxZKplURScAAAA/4BN4tiSHFKhQMjkBCRNy0uYm9yRPoshKNVmpOTA105JJKuaWMs2lRmGehSblMZKTs4w8J32N4rv7Lsy/9srsO58c6Ts69s3CqrTQR87MePJ8ZYix7xup6NN0VtNdNpSanplquaIU1UwUAADA9mOTMQAAAHBXkIwBAAAAQTIGAAAABMkYAAAAECRjAAAAQJCMAQAAAEEyBgAAAATJGAAAABAkYwAAAECQjAEAAABBMgYAAAAEyRgAAAAQJGMAAABAkIwBAAAAQTIGAAAAxNKnKOLBgwcPHjx48ODBgwdrxgAAAIAgGQMAAACCZAwAAAAIkjEAAAAgSMYAAACAIBkDAAAAgmQMAAAACJIxAAAAIEjGAAAAgCAZAwAAAIJkDAAAAAiSMQAAACBIxgAAAIAgGQMAAACCZAwAAACIfysZ/xNffo7ia3M0t0v36Qvn9Ks5mln8/tX20yAyRwAAAHdKHAV+EMXmqN6EenEUBkFYn4biuLr7KUOrZtOn9fP7t5Jx0N4YNJ59Mkfzunj1YGNw78mZOZyZtztY2njuXJpDAACAOyLyuq1mI9Fs9fy6HBr7Pate17MysN1FY7XtBKbciEN3e11O9UsnAqe9qtsopS5F5Pd1t2337q8+3s1krFxd3eoHk6/R1T/mKQAAwB0RDVsqejqhxJ846KsAW51DI7fdaHaGSb1w2Gk2WkNTL3Y7WReSn9cazZ6vz4jQaTVV6u131TjFZBw4a421NA5Hw3Yj71L143VXJWT3pW+SseXbJ/fZi7VHo0b3uPfarMpGJy87u352d4PD487TU33TkmR8rkpWt/ZXey+HH01gTZr4F0H38YHqqv/+i947cdjcPFjLN0KcO7vH3ZPP+vl1dPqm23vekApvgitdpkyfz3X09tX244OVreedZ6fhN1OaTDJ4r089Oux6dSvM/4Tey/XuvtQ5PM//JlyeO08PV7dGzccvnTM1+ZsbdS27x7232d6Pz+7T485fZ7dK9gAA4Bek06m1xhv0rchrkXp2eRz6fhqfgn4hvJYPh31fHUiyLibjUkn50HNcydql3u6sRSXjT/2dwfLmwfboXf/Jwb2NwepIYmv4bH9p48hNqtzcuL3B0s5JKE8lGf+xObr/6LCzq1LvYGljv3cm2451k717OwfraXlzZ9TsHXce7/+2Mbj35wdpbS05x6+P1HCN3olzeLK+NVjaPPakwtT5XAfP9pdVw8fHyQSWN1/ohnqSD/dWttQEjtd21AT22ifjG5q/uL29pQ09sd7BippYL9A/nJ22Nwe/7Rz1Dt/0eqPljb3OW3VR592twfLjdyYKX/qrG4Omng8AAMB0Oo727LzqdxuNzlgSlXoSjCN/6AhXx5OU32s22mlslnXn9fJ+irHgK2S5ei3dvRG5nWZz27O71UjGBRevmhuDdS9Z972O3r7z9Brw5GS89OhVegM/dB4OlvULrpsc9C90se525alucXNdap4kY9k6vPXSvIBX5+6JXr6dOp/43frG4L7p2dRP0qqMsvF8aNaez7ZVOi/8TdROX97fGKz9rZeEVWd/H61sHjpqzq+Pf9sYdU+T4i/ByWlwmcX9w6H+WxSNDtQFstcZAADMajyvVidRKW11Ouur7a7j9DqtZqNZiM+RbCRurrXWVxtrrV55v7CoSMYq6QROa62xut5aazbWO8OxXKSQjItkjXZpY3/tyYnz9jxOdyZMTsb2PmMdcE/UnS42KVSrbJ6sGcuWhtGpf5Et7k6bz+uj5TzCKp+dR4Olx29UdrVGUT71VD9jyTj8S5Judl05vWa8vHmw/tR331/mP08lSf1vNT0ZKF8/BgAAmGqeZNxodrPdw3p3cnYY9GUrcc/1fN8bdtXz8UXnqmQcuZ1VFYgd1/d9Vz6Lt15OzgrJuEz29R6vbu39vqEi6ah9Iuupk5NxssMhETwdLT2UjRDzJmNZEj590318sPJQjTv47dEr82JNns/Jkezf+KhrimRB+pXqfKZkXLyuAr3PuLm595uMe9DXW0TyQKy3UuiIDAAAMBsVTq2Eq8TedqMxvqlBJ2E7t0iB2XcsT+2P3OkP5I11MZ6MZd+GvXW5vOU5QTIu+/Y1vbUXkiZ1uNQJMltb/eJ0C9H2D7NpWPncfzRYeiQbv2+RjOPYfHov9g7/2Bi0T/RB7Xx05x9PGoWEKts5kvnMkoxVsC4sOV+GQ+80+ajnTZz2eRWsq7Ceto3/fq6GdmQrRU2kBgAAqFaOtX63+hN4spW44+Zp19qOLNm10CToVYTZsWSsC+xQXrGqrJCMC/S+2wfPdDi8PO1sDZa7b+TmvD5WUfXeY9//eO4+OZDlWyvaLm/sd04+RZefvGfPaz60NzUZfx0+HixtHg0vVTj+Gv51sLyxt/2+dj5W53r7xOahc/YlvvrkPd3XSVfWd2uTcaz6GTWfJWc+dDYHyzsvvY+fo48fuqqO/uRf/PehmkDbUxdyHZ+9WrW/dFnvbF4u/DwAAAAwk9jbbjbWt90giqNA7xZOl3sjd7vV7qdfbxw46lSr70dxuZ5Ozc2Oo3pQIq+33qj4CN547tXr0Os9N5R2USBfBFfxETyScdF1MHq+IvsH9JaGnRee+QTbF++JfKeEKry/GzjFaNs+DNry7RPyaDz5kNziudeMrz5sq2Bqhh6tjZLP7lXPp9D51Vn30Z6KqrrO/vZrM+PaZHz5RiXd35LvoFAu3rS3TP/Lm88ds2siv171WOnm31hnNmxs7HVeJzUBAADmkP++jeZaZ5hGlZtQsrAVSmOrXqvrZvWUyO220l/ZofpwCt9ckahaEVY9dtbS3xCyqvqsCMAk4yq3+J3P1/HV5+wTcrcXX0WX5psiLDPMRzW8+o5dv1efq5p/jS4XcVEAAABFs/4S5knVbvl7nP8bv/95ssUmYwAAAOCuIhkDAAAAgmQMAAAACJIxAAAAIEjGAAAAgCAZAwAAAIJkDAAAAAiSMQAAACBIxgAAAIAgGQMAAADibifjyHf8/8lv6L7NQBf+2uYLzxzcxO9frm4dOhfmcBG+ftfvtQYAAEDRnUvGcTAcBulv7Y68rve/Sca3GOjjSWPjyE2en5082NjvnV0nR4uh+t85Cc0BAAAAvtcCk3EcBr4ShGlutahzUZxUCCRhmqdW1Tgaax0FYaT+o4tNLI0Cb9jvDz3f1/UksIbpuNXJNQrMWWtW+egyL1NYNYNMkozTuSQV1JE1ZhSWZ5Al46ugvTlqn3xJim9urqO3fnf3uPPkxP34T1IUHL50Lz4Nn6rCV/7l9c3Hd1Lh6bvwW3L+5ubirK/O7r7onXySw8vTbm//j4f767vHzmlVBQAAAMxpUck48vp9VzJjHHpOf2zngTrtDP0wUunT7TvO0FNVVcrtm5pxMHSkdRyp1o5ZnVWFfcf1pVRq6lJ5qioEocrMigqsfXWkq7hpZznVQ8/x1Kj6tJusr0Z+MlPpaqimkixAV84gpwZyhq5cgHRlGoVez0vXbCPruZEkY4nFe1Ysvgn/2v9t68h5/yl8e7K6eZDsr3B7eyuPjp33596zgz+2Rs2e75+F/cd7f/z5QU5/fPVgY9Q+DMOPH3qP9lZHn2/iC290uLJ52Pfe+ZdVFQAAADCnH7CborDfwbB2I6inJqNmNe2IqQodRzcv9BO6eYjOS61uK4e1pFVDt5fnXpWSkzbVM8hJMs5zd9pHHocL7Q1JxvsPdgZLD4+z3cba19isBF+7vUH7RJ6pJ+testciaG88Hyaj5/slruPYrC7feIdLvUCeFHZTVFUAAADAPBaXjKPAd4eO0u/3xiJqMRmnT02YLWXatEJ1Bp4vGcdh4JlZ9XTVYq30qNTW7jZRLMmqq2StU37ojS+T62Q8ePDsPHi2v9Kzer86d54erm6NVjb3ft/Ik3HyRCfjdHdynn2/BIcv17v7qsnKw0FVMq6qAAAAgHksKBnL4qtv9t9WRVQrWVpPTc2xXJqsyBaKs1bVpUrFsKFsoTBFpqqqZa0Hp21KbdMZ5FTrdKFbiQMn35qhnlUGY52Mk4x70dsZPPgr2f772enurR2eR7GsENtrxhOScXT4/N5jP0i+ieLkaDwZV1cAAADAPBaVjO246865ZixJM9lGnJSZjQmFuJq1UqX5vgarr2J1zS5RETapqgqzuBx6jplq9QxyaqBu3pfXH6bRUzUcDu2wncuTsXwIb30z+W6KT70d9UQXfvvQ2ZwpGYfP9hvPku97+8f7c88E34tXDzZf+Lq0ugIAAADmsajdFBI4+7JrwRl6XjmiFiJsRTJWz0LX0e37svasT1pnFauV5Nl+ko4nJ2M5n/TqOJ7n5jMI9AaLoRuEftamagY5GShQmVyfd7KFaEVF425lMC4kY1Xv5Oje5pF7JU9WHu6tbI5Wto7a3ZmSsf52i717qsnmqN17ngbfz8Pe6LeHo+23dRUAAAAwhx/wCbw7pCpNz0kWjefv4mt0mX9bxWyu46vP6Uf3Kk2tAAAAgEl+vWQcuvqL3pTAH5qvprilKAw8p2dtQAYAAMDd9UuuGae/GySwf/3HLURh+J09AAAA4Kfxa++mAAAAAFIkYwAAAECQjAEAAABBMgYAAAAEyRgAAAAQJGMAAABAkIwBAAAAQTIGAAAABMkYAAAAECRjAAAAQJCMAQAAAEEyBgAAAATJGAAAABAkYwAAAEAsPBnHsXkyURQGfhDNVPU7zTCfyiqzXcdMYospur05+ljUJcSBF8zRVej7kXlaJ7kXCVP0E5nzegEAwH/GApNxHDjt1Uaj0Q9MQaXI67aaq+stZX21sdoZhubEDxH0p81HV2l2fXNkqMK2Oy3f3USBH06NUJHbVjclt9pyJk9oEulshomJGS59NqGz3lh3Jr1Mcah+zEmfe9vN5rY36baM35G+/xMl0enXCwAA/qMWlIxjv99abXXdYW9yHIuGrWYnT3ax111b+46gONWMyVhl42KYmykZS8Kbnj1LYTYO+uvNXimIz+zfSMbTzXS3cuU7EjozXxQAAMAPtKBkHPnJ/4CeFsf8bikD2cuNqpeh0+20Ol3Hzf53dhwMHS+MQ7cvJ4ZSHgeus91WB+n/tdd1optQitvbvax8bD5qgF5VlZ7jrNuJvZT11OjpvLI14shzep21RmvbcfSkksKK/sfCrOrbWpKs6lurPFHsTNWw7lTJhJeiapoiG1JdkbmnUqqeZZcYR95QVZG2SZGc3W411jrqHur66saYhlrFWGN3JHI7jfzu192RtCdVLIMk45u/HoFMKv0Rq+byIv3XJunXFCnjpYXrrZlOMn4yrPUXEQAA3G0L3mc8IY5psmasEowdeFKB/E/s7aEXBIHndJrrphsdozrdnuv7vttbb7Q6nU5fH/RbzbWkUlKn09bl3nA7T7n2fAKntdoyVbqt1fawUKW4mq0K0+ymYtuqzKvUtYr0bq/V6Dh+Gu1r+i/nwNBpZWvGNX3Xn7A6kyr5hMfVvRT5NPUtTO+zNFhvpvNXP3h0Wqa5NaZ6jaRKEEWBmlXSNAp8p9NoyQukk+PYLe/qy1A3K70l5TuiC8yavXXhrtNeXbXuVDMt78trbXqQpi31d8LJhq9+FWSTh2rvh1Ho9VvpjasstadX9zqoiyz8RZyyfwQAANwN/+NkLCtyshu5uSZLbSpimVIRh/lH8iSn5rmsZeKN6r/XyHdfBP1mckbq2FuFpXUSqfL5xCpaWVXksFRF9WInnzQM9pv2fo+862TY7GJr+9eTW5N91WJ9db2brajW9l17QjqTielYPHmLdvVLIR103DzF+d30HqoxircwbZ6OmTzrZV3G2cuV363kIL/l9liRn64qZx0qcRSqH3jSZBk4a/mLbR36PTPNhJq1NaWWtQI/4VXOpxhH5lllqTW9CS9QQ2V5XahIC6IxAAD/Af/zZGxEgTvsdtaaq20reajiMPA913G6reZYLhOFKCOndCV5Ulg+VREmSTT5fGQfhyNrf4asc+qsZU1ZFiaT7rNxJAwVLkiFtTQsZeOL2v6lll5R1TxZO20lrWr7rh9U341eP19Sr1f9UqhpFu5U7G0noU6dKIQ7NQfTXI+ZtJF1/dV23/WK3ytSeFUKt7wyL0qHtvXtdCODvG7doblViqzKS9CV8sLfE7nbyeuTT07Uvgr6g4GtjuMGYVa5pjTvsv51KN3cwg0AAAB31r+VjA1JIWYxMOi3mqut7Z7jqODlO2noLEafQgSRU7qSPLFWCq0z2XxU6NV7ggv0CmZhypKNZT7ZOEHfZOVU1nXh6YT+pVaxi3Sdtrbv+kHliUqSfXvnRY3Kl0Kmma/6iqCnZycnqm+hfpZPR36k6W239feKpIWFV6Vwy4tjGXaHej9DFnpljVY2LNtky68qN39LDDPrscnVvgpKHPl6x/CaCsP5jRkvzbusfx1KN7dwAwAAwJ31v03G8ums4qeVAmdNL8vJ2qX9f96rViyVQgTJcoo8KSSnbGU0n89YuEqVpqzClYpqTpq8sjXVVNa1Nb6o7b94ASJtV9t3/aBZZ3qa1rTHVb8U1pK3li2Llk7ITgjTfPwCtNBppZMsvCrWLS9ujVCdJpdU7FBe6vRoLJ8bpb8d0rNpU5pc7atgk96KS9AiK827rH8dSje3cAMAAMCd9T9eM/Z7zWZnmH7GPw6GnfRTdJJp0v2isd9br85lhQgip3QledLIFlH196LlmS2dj2TAtIqukw1cmrLKQ81GIxvH70oETWZsd50Mmwenuv6LFxBHgbu9Znar1vddd8LqbFo2rnkpCtNMfgxIKunnPTeMYjXHYae1vjb2CgT91WxE9RolP9Moaqh8r2/dLY+G6Q7n4h3RF5ttDrYvXKaULkzLPeg4gZpcHHm99vq66aHcV82roKoVZ6Lb1JZmXda9DqWbqw7tSQAAgDvqf76bInRlD7EhX4GcBgr9K0Aaq+vrq/L1B3Pvpmg78h0Bq2trqo9873JhPumH/9bkPypmJaVVU1aByBonmfLqqm5W+Nib7ABpZOuP1f3L5Cyr651+9hG8CX1XnyjfjQmbKuS6isxVmmmurqrui79jI/L6HfmYYLvrhmF6cwtj6qar663iXVZVOvI7XnRsLN5y+Z7r8ljFi1CkINtSYS5cv5Ct/NOKatrD7bbMTt1ZFVJND2N91bwKyV+v5pr8eplm3m1VabHL6teh9Jcmmw4AALjTFpyMMxIvSgrZoe73At/q1wVbWWaG5rf8jcQzN7tF/7VNZulrPAKPJf0qU3qWxde6bua+wgXekYS1p6VGdQfzlNrmvmIAAHAX/ahk/D81vnCIuQVOa72XrqWG1paPn0Gsv6Uu29bgtIr7ygEAABbhv5GMva79/91xO5HblW0SSmnLx89AxeHOumzZaDTXWtvW76gDAABYlP9EMgYAAAC+G8kYAAAAECRjAAAAQJCMAQAAAEEyBgAAAATJGAAAABAkYwAAAECQjAEAAABBMgYAAAAEyRgAAAAQJGMAAABAkIwBAAAAQTIGAAAAxNKnKOLBgwcPHjx48ODB41d/RNH/B0fpJ3v/z/MNAAAAAElFTkSuQmCC)"
      ]
    },
    {
      "cell_type": "markdown",
      "metadata": {
        "id": "3PrXEIeNxtwc"
      },
      "source": [
        "ランダムフォレストの場合、テストスコアでは決定木が100の場合が最も高いが、検証スコアでは50の場合が高くなってしまっており、やはり信頼性に疑問が残る状態となってしまっている。"
      ]
    },
    {
      "cell_type": "markdown",
      "metadata": {
        "id": "TfZu2xx0y-cO"
      },
      "source": [
        "クロスバリデーションの各回のスコアを見るとかなり高くスコアが出ている回があり、一部のデータに過剰に適合していることが疑われるので検証データの割合を増やしてみる。"
      ]
    },
    {
      "cell_type": "code",
      "metadata": {
        "id": "C9qhZkQDxIKb"
      },
      "source": [
        "# 3分割へ設定\r\n",
        "# 892÷3 = 297.3件が検証データとなる。\r\n",
        "skf = StratifiedKFold(n_splits=3, random_state=42, shuffle = True)\r\n",
        "\r\n",
        "scores_50 = []\r\n",
        "scores_100 = []\r\n",
        "scores_200 = []\r\n",
        "\r\n",
        "for train_index, val_index in skf.split(X_data2, y_data2):\r\n",
        "  X_train, X_val = X_data2.iloc[train_index], X_data2.iloc[val_index]\r\n",
        "  y_train, y_val = y_data2.iloc[train_index], y_data2.iloc[val_index]\r\n",
        "\r\n",
        "  # 学習\r\n",
        "  clf7 = RandomForestClassifier(n_estimators=50,random_state=42)\r\n",
        "  clf8 = RandomForestClassifier(n_estimators=100,random_state=42)\r\n",
        "  clf9 = RandomForestClassifier(n_estimators=200,random_state=42)\r\n",
        "  clf7.fit(X_train,y_train)\r\n",
        "  clf8.fit(X_train,y_train)\r\n",
        "  clf9.fit(X_train,y_train)\r\n",
        "\r\n",
        "  # スコアを配列に格納\r\n",
        "  scores_50.append(clf7.score(X_val, y_val))\r\n",
        "  scores_100.append(clf8.score(X_val, y_val))\r\n",
        "  scores_200.append(clf9.score(X_val, y_val))"
      ],
      "execution_count": 85,
      "outputs": []
    },
    {
      "cell_type": "code",
      "metadata": {
        "colab": {
          "base_uri": "https://localhost:8080/"
        },
        "id": "UpQrXDDvxNPz",
        "outputId": "a33ec0b8-15ac-45af-910f-80a0a3459e24"
      },
      "source": [
        "# 配列の中身を表示\r\n",
        "print(scores_50)\r\n",
        "print(scores_100)\r\n",
        "print(scores_200)\r\n",
        "\r\n",
        "# 平均値を表示\r\n",
        "print(f'Cross Validation score(RF50)：{np.mean(scores_50):.5f}')\r\n",
        "print(f'Cross Validation score(RF100）：{np.mean(scores_100):.5f}')\r\n",
        "print(f'Cross Validation score(RF200)：{np.mean(scores_200):.5f}')"
      ],
      "execution_count": 86,
      "outputs": [
        {
          "output_type": "stream",
          "text": [
            "[0.8181818181818182, 0.797979797979798, 0.8249158249158249]\n",
            "[0.8215488215488216, 0.8047138047138047, 0.8215488215488216]\n",
            "[0.8215488215488216, 0.8013468013468014, 0.8215488215488216]\n",
            "Cross Validation score(RF50)：0.81369\n",
            "Cross Validation score(RF100）：0.81594\n",
            "Cross Validation score(RF200)：0.81481\n"
          ],
          "name": "stdout"
        }
      ]
    },
    {
      "cell_type": "markdown",
      "metadata": {
        "id": "E7sojAyl0ea_"
      },
      "source": [
        "検証データの割合を変えることで、テストスコアの傾向へ近づいた（精度が決定木100 > 200 > 50）。"
      ]
    },
    {
      "cell_type": "markdown",
      "metadata": {
        "id": "J0otzGGH1G7b"
      },
      "source": [
        "５分割の時より検証スコアの信頼性が上昇したことが期待できる。"
      ]
    }
  ]
}